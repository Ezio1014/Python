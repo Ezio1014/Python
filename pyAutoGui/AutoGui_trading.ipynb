{
 "cells": [
  {
   "cell_type": "code",
   "execution_count": 6,
   "id": "91d91f62",
   "metadata": {},
   "outputs": [],
   "source": [
    "from IPython.display import Video\n",
    "from IPython.display import YouTubeVideo\n",
    "import pyautogui as pag\n",
    "import time"
   ]
  },
  {
   "cell_type": "code",
   "execution_count": 7,
   "id": "419d6dd1",
   "metadata": {},
   "outputs": [
    {
     "data": {
      "image/jpeg": "[encoded data removed]",
      "text/html": [
       "\n",
       "        <iframe\n",
       "            width=\"400\"\n",
       "            height=\"300\"\n",
       "            src=\"https://www.youtube.com/embed/nTLt2Pt87UU\"\n",
       "            frameborder=\"0\"\n",
       "            allowfullscreen\n",
       "        ></iframe>\n",
       "        "
      ],
      "text/plain": [
       "<IPython.lib.display.YouTubeVideo at 0x19e5913c880>"
      ]
     },
     "execution_count": 7,
     "metadata": {},
     "output_type": "execute_result"
    }
   ],
   "source": [
    "#練習紀錄影片(Youtube)\n",
    "#影片連結： https://youtu.be/nTLt2Pt87UU\n",
    "YouTubeVideo('nTLt2Pt87UU')"
   ]
  },
  {
   "cell_type": "code",
   "execution_count": 122,
   "id": "bd7ca8bf",
   "metadata": {},
   "outputs": [
    {
     "data": {
      "text/plain": [
       "Point(x=1520, y=111)"
      ]
     },
     "execution_count": 122,
     "metadata": {},
     "output_type": "execute_result"
    }
   ],
   "source": [
    "#滑鼠定位\n",
    "pag.position()\n",
    "\n",
    "#Point(x=238, y=217)商品1\n",
    "#Point(x=521, y=210)商品2\n",
    "#Point(x=246, y=357)商品3\n",
    "#Point(x=508, y=361)商品4\n",
    "#Point(x=246, y=504)商品5\n",
    "#Point(x=542, y=504)商品6\n",
    "#Point(x=240, y=646)商品7\n",
    "#Point(x=527, y=646)商品8"
   ]
  },
  {
   "cell_type": "code",
   "execution_count": 114,
   "id": "485ae6bb",
   "metadata": {},
   "outputs": [],
   "source": [
    "#pyautogui.press+sleep組合鍵\n",
    "def press_sleep(key,t):\n",
    "    pag.press(key)\n",
    "    time.sleep(t)\n",
    "    \n",
    "#點擊座標組合鍵\n",
    "def click_xy(x,y):\n",
    "    pag.moveTo(x,y)\n",
    "    time.sleep(0.3)\n",
    "    pag.click()\n",
    "\n",
    "#購買指定商品 buy = [itemDict指定商品]\n",
    "itemDict = \\\n",
    "{1:[238,217],2:[521,210],3:[246,357],4:[508,361],\\\n",
    " 5:[246,504],6:[542,504],7:[240,646],8:[527,646]}\n",
    "\n",
    "def buyGood(buy):\n",
    "    for i in buy:\n",
    "        click_xy(itemDict[i][0],itemDict[i][1])\n",
    "        time.sleep(0.5)\n",
    "        click_xy(1157,244)\n",
    "        time.sleep(1)\n",
    "\n",
    "#交易介面\n",
    "def trading():\n",
    "    press_sleep(\"num0\",5)\n",
    "    press_sleep(\"num1\",5)\n",
    "    pag.press(\"num7\")\n",
    "    \n",
    "#出港介面\n",
    "def out_port():\n",
    "    time.sleep(2.5)\n",
    "    press_sleep(\"num2\",4)\n",
    "    \n",
    "#導航介面\n",
    "def navigation(t):\n",
    "    time.sleep(2)\n",
    "    press_sleep(\"num3\",2)\n",
    "    pag.press(\"space\")\n",
    "    time.sleep(t)\n",
    "    \n",
    "#縮小地圖\n",
    "def zoomOutMap(t):\n",
    "    time.sleep(3)\n",
    "    for i in range(t):\n",
    "        time.sleep(1.2)\n",
    "        pag.press(\"num9\")\n",
    "    time.sleep(2)\n",
    "\n",
    "#點擊下一個港口+合併縮小地圖\n",
    "def next_port(x,y,zoom = None):\n",
    "    if zoom == None:        \n",
    "        click_xy(x,y)\n",
    "    else:\n",
    "        zoomOutMap(zoom)\n",
    "        click_xy(x,y)\n",
    "        \n",
    "#出售貨物\n",
    "def selfGoods():\n",
    "    time.sleep(2)\n",
    "    press_sleep(\"num0\",5)\n",
    "    press_sleep(\"space\",1)\n",
    "    press_sleep(\"num8\",1)\n",
    "    pag.press(\"num7\")\n",
    "    \n",
    "#使用海盜旗\n",
    "def flag():\n",
    "    time.sleep(8)\n",
    "    click_xy(933,840)\n",
    "    \n",
    "#跑商流程合併(推薦品)\n",
    "def run_trading(x,y,t,zoom = None):\n",
    "    next_port(x,y,zoom)\n",
    "    navigation(t)\n",
    "    trading()\n",
    "    out_port()\n",
    "    \n",
    "#跑商流程合併(指定商品)\n",
    "def run_tradingItems(x,y,t,buy,zoom = None):\n",
    "    next_port(x,y,zoom)\n",
    "    navigation(t)\n",
    "    press_sleep(\"num0\",5)\n",
    "    buyGood(buy)\n",
    "    pag.press(\"num7\")\n",
    "    out_port()\n",
    "    \n",
    "#自動貿易(遊戲內建功能(18mins))\n",
    "def autoTrading():\n",
    "    time.sleep(4)\n",
    "    press_sleep(\"m\",2)\n",
    "    click_xy(1533,460)\n",
    "    time.sleep(2)\n",
    "    click_xy(1340,676)\n",
    "    time.sleep(2)\n",
    "    click_xy(1281,796)"
   ]
  },
  {
   "cell_type": "code",
   "execution_count": 100,
   "id": "3aa318a8",
   "metadata": {},
   "outputs": [],
   "source": [
    "#貿易路線1(東南亞+日本線(天津衛出發))\n",
    "def runSA_JP():\n",
    "    time_start = time.time() #開始計時\n",
    "    \n",
    "    #商品販售1(天津衛出發)\n",
    "    pag.press(\"m\")\n",
    "    time.sleep(1.5)\n",
    "    out_port()\n",
    "\n",
    "    run_trading(942,745,25) #淮安\n",
    "\n",
    "    #基隆\n",
    "    next_port(871,886,1)\n",
    "    navigation(1)\n",
    "    flag() #海盜旗使用\n",
    "    time.sleep(21)\n",
    "    trading()\n",
    "    out_port()\n",
    "\n",
    "    run_trading(900,880,57,4) #安汶\n",
    "    run_trading(613,778,22)   #帝利\n",
    "    run_trading(141,377,30)   #泗水\n",
    "    run_trading(419,209,25)   #巴領旁\n",
    "\n",
    "    #汶萊\n",
    "    next_port(1301,81)\n",
    "    navigation(28)\n",
    "    selfGoods()\n",
    "    out_port()\n",
    "\n",
    "    run_trading(1005,60,55,4) #長崎\n",
    "    run_trading(1131,391,30)  #京都\n",
    "    run_trading(1005,75,40,1) #札幌\n",
    "    run_trading(306,457,25)   #符拉迪沃斯托克\n",
    "    run_trading(674,887,25,1) #釜山\n",
    "    run_trading(624,265,30)   #平壤\n",
    "\n",
    "    #返回天津衛\n",
    "    next_port(388,462)\n",
    "    navigation(21)\n",
    "    selfGoods()    \n",
    "    \n",
    "    time_end = time.time()          #結束計時\n",
    "    time_c= time_end - time_start   #執行所花時間\n",
    "    print('東南亞+日本線貿易時間:', time_c, 's')"
   ]
  },
  {
   "cell_type": "code",
   "execution_count": 123,
   "id": "8b60c206",
   "metadata": {},
   "outputs": [],
   "source": [
    "#貿易路線2(歐非線(天津衛出發))\n",
    "def runEA():\n",
    "    time_start = time.time() #開始計時\n",
    "    \n",
    "    time.sleep(4)\n",
    "    out_port()\n",
    "    run_tradingItems(896,889,32,[1,2,3,4,6]) #應天府\n",
    "\n",
    "    #亞丁\n",
    "    next_port(110,657,5)\n",
    "    navigation(33)\n",
    "    flag() #海盜旗使用\n",
    "    time.sleep(103)\n",
    "    press_sleep(\"num0\",5)\n",
    "    buyGood([4])\n",
    "    pag.press(\"num7\")\n",
    "    out_port()\n",
    "\n",
    "    run_tradingItems(744,881,62,[3,5,8],4) #莫三比克\n",
    "    run_tradingItems(438,881,27,[4,6],1) #索法拉\n",
    "    run_tradingItems(787,631,15,[4,5])   #納塔爾\n",
    "    run_tradingItems(120,710,35,[2,5])   #開普敦\n",
    "    run_tradingItems(659,53,28,[6],2)    #卡里比布\n",
    "    run_tradingItems(788,57,25,[3],1)    #本格拉\n",
    "    run_tradingItems(517,48,30,[4],2)    #聖多美\n",
    "    run_tradingItems(820,229,20,[1])     #貝南\n",
    "    run_tradingItems(603,381,17,[2,6])   #聖喬治\n",
    "    run_tradingItems(74,425,32,[3,4])      #獅子山\n",
    "    run_tradingItems(657,57,30,[7],2)    #阿爾金\n",
    "\n",
    "    #基輔\n",
    "    next_port(1215,139,5)\n",
    "    navigation(105)\n",
    "    selfGoods()\n",
    "    time.sleep(2)\n",
    "    click_xy(1520,111)\n",
    "    time.sleep(1)\n",
    "    trading()\n",
    "    out_port()\n",
    "\n",
    "    #雅典\n",
    "    next_port(652,848,3)\n",
    "    navigation(42)\n",
    "    selfGoods()\n",
    "    \n",
    "    time_end = time.time()          #結束計時\n",
    "    time_c= time_end - time_start   #執行所花時間\n",
    "    print('歐非線貿易時間:', time_c, 's')"
   ]
  },
  {
   "cell_type": "code",
   "execution_count": null,
   "id": "83e717e1",
   "metadata": {},
   "outputs": [],
   "source": [
    "#啟動跑商\n",
    "time.sleep(5)\n",
    "\n",
    "runSA_JP()    #貿易路線1(東南亞+日本線(天津衛出發))\n",
    "runEA()       #貿易路線2(歐非線(天津衛出發))\n",
    "autoTrading() #自動貿易(遊戲內建功能(目前一輪18mins))"
   ]
  },
  {
   "cell_type": "code",
   "execution_count": 118,
   "id": "79ce8e1b",
   "metadata": {},
   "outputs": [],
   "source": [
    "time.sleep(5)\n",
    "#測試區\n"
   ]
  },
  {
   "cell_type": "code",
   "execution_count": 71,
   "id": "6e03c6fc",
   "metadata": {},
   "outputs": [
    {
     "name": "stdout",
     "output_type": "stream",
     "text": [
      "238 217\n",
      "246 357\n"
     ]
    }
   ],
   "source": [
    "#新建函數測試區\n",
    "buyGood(buy)"
   ]
  }
 ],
 "metadata": {
  "kernelspec": {
   "display_name": "Python 3",
   "language": "python",
   "name": "python3"
  },
  "language_info": {
   "codemirror_mode": {
    "name": "ipython",
    "version": 3
   },
   "file_extension": ".py",
   "mimetype": "text/x-python",
   "name": "python",
   "nbconvert_exporter": "python",
   "pygments_lexer": "ipython3",
   "version": "3.8.8"
  }
 },
 "nbformat": 4,
 "nbformat_minor": 5
}
