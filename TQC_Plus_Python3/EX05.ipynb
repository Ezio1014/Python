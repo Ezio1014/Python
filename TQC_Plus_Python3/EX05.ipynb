{
 "cells": [
  {
   "cell_type": "code",
   "execution_count": 14,
   "id": "6d8dd380",
   "metadata": {},
   "outputs": [
    {
     "name": "stdout",
     "output_type": "stream",
     "text": [
      "violets\n",
      "123456987\n",
      "vviioo\n",
      "Department: violets\n",
      "Student ID: 123456987\n",
      "Name: vviioo\n"
     ]
    }
   ],
   "source": [
    "'''EX5-01 訊息顯示'''\n",
    "d = input()\n",
    "i = eval(input())\n",
    "n = input()\n",
    "\n",
    "def compute(d,i,n):    \n",
    "    print(\"Department: {}\".format(d))\n",
    "    print(\"Student ID: {}\".format(i))\n",
    "    print(\"Name: {}\".format(n))\n",
    "\n",
    "compute(d,i,n)"
   ]
  },
  {
   "cell_type": "code",
   "execution_count": 10,
   "id": "c1147a02",
   "metadata": {},
   "outputs": [
    {
     "name": "stdout",
     "output_type": "stream",
     "text": [
      "enter a number for xa\n",
      "retry enter a number for x\n",
      "enter a number for x10\n",
      "enter a number for yb\n",
      "retry enter a number for y\n",
      "enter a number for y20\n",
      "200\n"
     ]
    }
   ],
   "source": [
    "'''EX5-02 乘積'''\n",
    "while True:\n",
    "    x = input('enter a number for x')\n",
    "    try:\n",
    "        x = int(x)\n",
    "        if isinstance(x,int):\n",
    "            break\n",
    "    except Exception as e:\n",
    "        print('retry enter a number for x')\n",
    "        continue\n",
    "        \n",
    "while True:\n",
    "    y = input('enter a number for y')\n",
    "    try:\n",
    "        y = int(y)\n",
    "        if isinstance(y,int):\n",
    "            break\n",
    "    except Exception as e:\n",
    "        print('retry enter a number for y')\n",
    "        continue\n",
    "\n",
    "def compute(x,y):\n",
    "    cp = x * y\n",
    "    print(cp)\n",
    "\n",
    "compute(x,y)"
   ]
  },
  {
   "cell_type": "code",
   "execution_count": 7,
   "id": "4fc31fdf",
   "metadata": {},
   "outputs": [
    {
     "name": "stdout",
     "output_type": "stream",
     "text": [
      "33\n",
      "66\n",
      "1683\n"
     ]
    }
   ],
   "source": [
    "'''EX5-03 連加計算'''\n",
    "a = eval(input())\n",
    "b = eval(input())\n",
    "SUM = 0\n",
    "\n",
    "def compute(x,y):\n",
    "    global a,b,SUM\n",
    "    for i in range(x,y+1):\n",
    "        SUM += i\n",
    "compute(a,b)\n",
    "print(SUM)"
   ]
  },
  {
   "cell_type": "code",
   "execution_count": 8,
   "id": "3faf6370",
   "metadata": {},
   "outputs": [
    {
     "name": "stdout",
     "output_type": "stream",
     "text": [
      "14\n",
      "3\n",
      "2744\n"
     ]
    }
   ],
   "source": [
    "'''EX5-04 次方計算'''\n",
    "a = eval(input())\n",
    "b = eval(input())\n",
    "SUM = 0\n",
    "\n",
    "def compute(x,y):\n",
    "    global a,b,SUM\n",
    "    SUM = x**y\n",
    "compute(a,b)\n",
    "print(SUM)"
   ]
  },
  {
   "cell_type": "code",
   "execution_count": 9,
   "id": "7c0d7425",
   "metadata": {},
   "outputs": [
    {
     "name": "stdout",
     "output_type": "stream",
     "text": [
      "e\n",
      "5\n",
      "4\n",
      "e e e e e \n",
      "e e e e e \n",
      "e e e e e \n",
      "e e e e e \n",
      "e e e e e \n"
     ]
    }
   ],
   "source": [
    "'''EX5-05 依參數格式化輸出'''\n",
    "a = input()\n",
    "b = eval(input())\n",
    "c = eval(input())\n",
    "p = 0\n",
    "def compute(x,y,z):\n",
    "    global a,b,c,p\n",
    "    p = (a + ' ')*b\n",
    "    for i in range(c+1):\n",
    "        print(p)\n",
    "compute(a,b,c)"
   ]
  },
  {
   "cell_type": "code",
   "execution_count": 20,
   "id": "a4f05be5",
   "metadata": {},
   "outputs": [
    {
     "name": "stdout",
     "output_type": "stream",
     "text": [
      "2\n",
      "-3\n",
      "1\n",
      "1.0 0.5\n"
     ]
    }
   ],
   "source": [
    "'''EX5-06 一元二次方程式'''\n",
    "def compute(x,y,z):\n",
    "    global a,b,c\n",
    "    s = b**2-4*a*c\n",
    "    if s >= 0:\n",
    "        ans1 = (-b+(s)**0.5)/(2*a)\n",
    "        ans2 = (-b-(s)**0.5)/(2*a)\n",
    "        print(\"{} {}\".format(ans1,ans2))\n",
    "    else:\n",
    "        print(\"Your equation has no root.\")\n",
    "\n",
    "a = eval(input())\n",
    "b = eval(input())\n",
    "c = eval(input())\n",
    "\n",
    "compute(a,b,c)"
   ]
  },
  {
   "cell_type": "code",
   "execution_count": 10,
   "id": "4273a8a6",
   "metadata": {},
   "outputs": [
    {
     "name": "stdout",
     "output_type": "stream",
     "text": [
      "1 2\n"
     ]
    }
   ],
   "source": [
    "'''EX5-07 質數'''\n",
    "def compute(num):\n",
    "    s = 1\n",
    "    \n",
    "    for i in range(2,num):\n",
    "        if num % i == 0:\n",
    "            s = 0\n",
    "            \n",
    "    if s == 0:\n",
    "        print(\"Not Prime\")\n",
    "    else:\n",
    "        print(\"Prime\")\n",
    "\n",
    "a = eval(input())\n",
    "compute(a)"
   ]
  },
  {
   "cell_type": "code",
   "execution_count": 33,
   "id": "33df19c0",
   "metadata": {},
   "outputs": [
    {
     "name": "stdout",
     "output_type": "stream",
     "text": [
      "4\n",
      "6\n",
      "2\n"
     ]
    }
   ],
   "source": [
    "'''EX5-08 最大公因數'''\n",
    "def compute(x,y):\n",
    "    if y == 0:\n",
    "        return x\n",
    "    else:\n",
    "        return compute(y,x%y)\n",
    "    \n",
    "x = eval(input())\n",
    "y = eval(input())\n",
    "print(compute(x,y))"
   ]
  },
  {
   "cell_type": "code",
   "execution_count": 37,
   "id": "09dce3ac",
   "metadata": {},
   "outputs": [
    {
     "name": "stdout",
     "output_type": "stream",
     "text": [
      "12\n",
      "16\n",
      "18\n",
      "32\n",
      "12/16 + 18/32 = 21/16\n"
     ]
    }
   ],
   "source": [
    "'''EX5-09 最簡分數'''\n",
    "def compute(x,y):\n",
    "    global p,q\n",
    "    if y == 0:\n",
    "        return x\n",
    "    else:\n",
    "        return compute(y,x%y)\n",
    "    \n",
    "x = eval(input())\n",
    "y = eval(input())\n",
    "m = eval(input())\n",
    "n = eval(input())\n",
    "p = (x*n+m*y)\n",
    "q = y*n\n",
    "\n",
    "new_p = int(p/compute(p,q))\n",
    "new_q = int(q/compute(p,q))\n",
    "\n",
    "print(\"{}/{} + {}/{} = {}/{}\".format(x,y,m,n,new_p,new_q))"
   ]
  },
  {
   "cell_type": "code",
   "execution_count": 13,
   "id": "788ec57a",
   "metadata": {},
   "outputs": [
    {
     "name": "stdout",
     "output_type": "stream",
     "text": [
      "10\n",
      "0 1 1 2 3 5 8 13 21 34 55 "
     ]
    }
   ],
   "source": [
    "'''EX5-10 費氏數列'''\n",
    "num = eval(input())\n",
    "fl_list = [0,1]\n",
    "f0 = 0\n",
    "f1 = 1\n",
    "f2 = 0\n",
    "\n",
    "def compute(num):\n",
    "    global f0,f1,f2\n",
    "    for i in range(num+1):\n",
    "        if i >= 2:\n",
    "            f2 = f0 + f1\n",
    "            fl_list.append(f2)\n",
    "            f0 = f1\n",
    "            f1 = f2    \n",
    "compute(num)\n",
    "for i in fl_list:\n",
    "    print(i,end = ' ')"
   ]
  }
 ],
 "metadata": {
  "kernelspec": {
   "display_name": "Python 3",
   "language": "python",
   "name": "python3"
  },
  "language_info": {
   "codemirror_mode": {
    "name": "ipython",
    "version": 3
   },
   "file_extension": ".py",
   "mimetype": "text/x-python",
   "name": "python",
   "nbconvert_exporter": "python",
   "pygments_lexer": "ipython3",
   "version": "3.8.8"
  }
 },
 "nbformat": 4,
 "nbformat_minor": 5
}
