{
 "cells": [
  {
   "cell_type": "code",
   "execution_count": null,
   "id": "e06db27e",
   "metadata": {},
   "outputs": [],
   "source": [
    "'''EX1-02 浮點數格式化輸出'''\n",
    "x1 = 23.12\n",
    "x2 = 395.3\n",
    "x3 = 100.4617\n",
    "x4 = 564.329\n",
    "    \n",
    "print(\"|%7.2f %-7.2f|\" % (x1 , x2))\n",
    "print(\"|%7.2f %-7.2f|\" % (x3 , x4))"
   ]
  },
  {
   "cell_type": "code",
   "execution_count": 8,
   "id": "83e33234",
   "metadata": {},
   "outputs": [
    {
     "name": "stdout",
     "output_type": "stream",
     "text": [
      "10\n",
      "Radius = 10.00\n",
      "Perimeter = 62.83\n",
      "Area = 314.16\n"
     ]
    }
   ],
   "source": [
    "'''EX1-04 圓形面積計算'''\n",
    "import math\n",
    "R = eval(input())\n",
    "P = R*2*math.pi\n",
    "A = R**2*math.pi\n",
    "print(\"Radius = {:.2f}\".format(R))\n",
    "print(\"Perimeter = {:.2f}\".format(P))\n",
    "print(\"Area = {:.2f}\".format(A))"
   ]
  },
  {
   "cell_type": "code",
   "execution_count": 10,
   "id": "00f79878",
   "metadata": {},
   "outputs": [
    {
     "name": "stdout",
     "output_type": "stream",
     "text": [
      "10\n",
      "25\n",
      "3\n",
      "Speed = 10.8\n"
     ]
    }
   ],
   "source": [
    "'''EX1-06 公里英哩換算'''\n",
    "x = eval(input())\n",
    "y = eval(input())\n",
    "z = eval(input())\n",
    "S = ((z/1.6)/(x*60+y))*3600\n",
    "print(\"Speed = {:.1f}\".format(S))"
   ]
  },
  {
   "cell_type": "code",
   "execution_count": 13,
   "id": "019fec09",
   "metadata": {},
   "outputs": [
    {
     "name": "stdout",
     "output_type": "stream",
     "text": [
      "1\n",
      "2\n",
      "3\n",
      "5\n",
      "7\n",
      "12357\n"
     ]
    }
   ],
   "source": [
    "'''EX1-07 數值計算'''\n",
    "v1 = eval(input())\n",
    "v2 = eval(input())\n",
    "v3 = eval(input())\n",
    "v4 = eval(input())\n",
    "v5 = eval(input())\n",
    "S = v1+v2+v3+v4+v5\n",
    "A = S/5\n",
    "print(\"{:.1f} {:.1f} {:.1f} {:.1f} {:.1f}\".format(v1,v2,v3,v4,v5))\n",
    "print(\"Sum = {}\".format(S))\n",
    "print(\"Average = {}\".format(A))"
   ]
  },
  {
   "cell_type": "code",
   "execution_count": 14,
   "id": "0cf0d8ff",
   "metadata": {},
   "outputs": [
    {
     "name": "stdout",
     "output_type": "stream",
     "text": [
      "5\n",
      "Area = 43.0119\n"
     ]
    }
   ],
   "source": [
    "'''EX1-09 正五邊形面積計算'''\n",
    "import math\n",
    "s = eval(input())\n",
    "A = (5*(s**2))/(4*math.tan(math.pi/5))\n",
    "print(\"Area = {:.4f}\".format(A))"
   ]
  },
  {
   "cell_type": "code",
   "execution_count": 15,
   "id": "d5add918",
   "metadata": {},
   "outputs": [
    {
     "name": "stdout",
     "output_type": "stream",
     "text": [
      "8\n",
      "6\n",
      "Area = 173.8234\n"
     ]
    }
   ],
   "source": [
    "'''EX1-10 正n邊形面積計算'''\n",
    "import math\n",
    "n = eval(input())\n",
    "s = eval(input())\n",
    "A = (n*(s**2))/(4*math.tan(math.pi/n))\n",
    "print(\"Area = {:.4f}\".format(A))"
   ]
  },
  {
   "cell_type": "code",
   "execution_count": null,
   "id": "4a29d133",
   "metadata": {},
   "outputs": [],
   "source": []
  }
 ],
 "metadata": {
  "kernelspec": {
   "display_name": "Python 3",
   "language": "python",
   "name": "python3"
  },
  "language_info": {
   "codemirror_mode": {
    "name": "ipython",
    "version": 3
   },
   "file_extension": ".py",
   "mimetype": "text/x-python",
   "name": "python",
   "nbconvert_exporter": "python",
   "pygments_lexer": "ipython3",
   "version": "3.8.8"
  }
 },
 "nbformat": 4,
 "nbformat_minor": 5
}
