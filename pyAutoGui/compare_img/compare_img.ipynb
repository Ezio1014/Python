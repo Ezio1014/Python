{
 "cells": [
  {
   "cell_type": "code",
   "execution_count": null,
   "id": "6c1e3044",
   "metadata": {},
   "outputs": [],
   "source": [
    "#練習紀錄影片(Youtube)\n",
    "#影片連結： https://youtu.be/BnuBPNqdUvY"
   ]
  },
  {
   "cell_type": "code",
   "execution_count": 1,
   "id": "623365bb",
   "metadata": {},
   "outputs": [],
   "source": [
    "from IPython.display import Video\n",
    "from IPython.display import YouTubeVideo\n",
    "import importlib as imp\n",
    "import time\n",
    "import pyautogui as pag\n",
    "import keyboard\n",
    "import numpy as np\n",
    "import cv2\n",
    "import os\n",
    "import sys\n",
    "import msvcrt\n",
    "from datetime import datetime"
   ]
  },
  {
   "cell_type": "code",
   "execution_count": 2,
   "id": "d714114f",
   "metadata": {},
   "outputs": [],
   "source": [
    "#import 上層.py檔\n",
    "sys.path.append(\"..\")\n",
    "import trade_def as td\n",
    "import trade_route as tr"
   ]
  },
  {
   "cell_type": "code",
   "execution_count": 3,
   "id": "0a162ae9",
   "metadata": {},
   "outputs": [],
   "source": [
    "imp.reload(td)\n",
    "imp.reload(tr)\n",
    "\n",
    "#黑市購買迴圈\n",
    "def route_bm():\n",
    "    place_dict = {'阿姆斯特丹':16,'安特衛普':16,'倫敦':15,'加來':18,'普利茅斯':17,'南特':20\\\n",
    "                  ,'波爾多':15,'波爾圖':25,'里斯本':16,'塞維利亞':16,'休達':13,'阿爾及爾':20}\n",
    "    time.sleep(2)\n",
    "    \n",
    "    td.black_market() #漢堡    \n",
    "    \n",
    "    #搭配字典應用 v2.0\n",
    "    for key,value in place_dict.items():\n",
    "        td.black_market(key,value)\n",
    "        \n",
    "    td.search_port('漢堡',61)#返回漢堡\n",
    "    \n",
    "def route_bm2():\n",
    "    place_dict = {'突尼斯':17, '錫拉庫薩':19, '那不勒斯':16, '比薩':17, '熱那亞':15, '馬賽':17\\\n",
    "                  ,'巴賽隆納':16, '瓦倫西亞':15, '阿爾及爾':16, '休達':20, '塞維利亞':13\\\n",
    "                  ,'里斯本':15, '波爾圖':15, '波爾多':23, '南特':14}\n",
    "    time.sleep(2)\n",
    "    td.black_market() #的黎波里    \n",
    "    #搭配字典應用 v2.0\n",
    "    for key,value in place_dict.items():\n",
    "        td.black_market(key,value)        \n",
    "    td.search_port('的黎波里',1)#的黎波里\n",
    "    \n",
    "def next_month(m):\n",
    "    if m == 12:\n",
    "        m = 1\n",
    "    else:\n",
    "        m +=1"
   ]
  },
  {
   "cell_type": "code",
   "execution_count": 6,
   "id": "305c3b1c",
   "metadata": {},
   "outputs": [
    {
     "name": "stdout",
     "output_type": "stream",
     "text": [
      "運作次數：2\n",
      "請輸入月份：4\n",
      "請輸入日期：29\n",
      "採購完成 1 次，剩餘 1 次\n",
      "用時:513.3 s\n"
     ]
    },
    {
     "ename": "KeyboardInterrupt",
     "evalue": "",
     "output_type": "error",
     "traceback": [
      "\u001b[1;31m---------------------------------------------------------------------------\u001b[0m",
      "\u001b[1;31mKeyboardInterrupt\u001b[0m                         Traceback (most recent call last)",
      "\u001b[1;32m~\\AppData\\Local\\Temp\\ipykernel_2112\\1131252686.py\u001b[0m in \u001b[0;36m<module>\u001b[1;34m\u001b[0m\n\u001b[0;32m     25\u001b[0m     \u001b[1;32mif\u001b[0m \u001b[0md\u001b[0m \u001b[1;33m==\u001b[0m \u001b[1;36m10\u001b[0m\u001b[1;33m:\u001b[0m\u001b[1;33m\u001b[0m\u001b[1;33m\u001b[0m\u001b[0m\n\u001b[0;32m     26\u001b[0m         \u001b[0mst\u001b[0m \u001b[1;33m=\u001b[0m \u001b[0mtime\u001b[0m\u001b[1;33m.\u001b[0m\u001b[0mtime\u001b[0m\u001b[1;33m(\u001b[0m\u001b[1;33m)\u001b[0m\u001b[1;33m\u001b[0m\u001b[1;33m\u001b[0m\u001b[0m\n\u001b[1;32m---> 27\u001b[1;33m         \u001b[0mroute_bm2\u001b[0m\u001b[1;33m(\u001b[0m\u001b[1;33m)\u001b[0m\u001b[1;33m\u001b[0m\u001b[1;33m\u001b[0m\u001b[0m\n\u001b[0m\u001b[0;32m     28\u001b[0m         \u001b[0mprint\u001b[0m\u001b[1;33m(\u001b[0m\u001b[1;34m\"採購完成 {} 次，剩餘 {} 次\"\u001b[0m\u001b[1;33m.\u001b[0m\u001b[0mformat\u001b[0m\u001b[1;33m(\u001b[0m\u001b[0mtimes\u001b[0m\u001b[1;33m+\u001b[0m\u001b[1;36m1\u001b[0m\u001b[1;33m,\u001b[0m\u001b[0mstop\u001b[0m\u001b[1;33m-\u001b[0m\u001b[1;33m(\u001b[0m\u001b[0mtimes\u001b[0m\u001b[1;33m+\u001b[0m\u001b[1;36m1\u001b[0m\u001b[1;33m)\u001b[0m\u001b[1;33m)\u001b[0m\u001b[1;33m)\u001b[0m\u001b[1;33m\u001b[0m\u001b[1;33m\u001b[0m\u001b[0m\n\u001b[0;32m     29\u001b[0m         \u001b[1;32mif\u001b[0m \u001b[0mtimes\u001b[0m \u001b[1;33m==\u001b[0m \u001b[1;36m0\u001b[0m\u001b[1;33m:\u001b[0m\u001b[1;33m\u001b[0m\u001b[1;33m\u001b[0m\u001b[0m\n",
      "\u001b[1;32m~\\AppData\\Local\\Temp\\ipykernel_2112\\3675794603.py\u001b[0m in \u001b[0;36mroute_bm2\u001b[1;34m()\u001b[0m\n\u001b[0;32m     25\u001b[0m     \u001b[1;32mfor\u001b[0m \u001b[0mkey\u001b[0m\u001b[1;33m,\u001b[0m\u001b[0mvalue\u001b[0m \u001b[1;32min\u001b[0m \u001b[0mplace_dict\u001b[0m\u001b[1;33m.\u001b[0m\u001b[0mitems\u001b[0m\u001b[1;33m(\u001b[0m\u001b[1;33m)\u001b[0m\u001b[1;33m:\u001b[0m\u001b[1;33m\u001b[0m\u001b[1;33m\u001b[0m\u001b[0m\n\u001b[0;32m     26\u001b[0m         \u001b[0mtd\u001b[0m\u001b[1;33m.\u001b[0m\u001b[0mblack_market\u001b[0m\u001b[1;33m(\u001b[0m\u001b[0mkey\u001b[0m\u001b[1;33m,\u001b[0m\u001b[0mvalue\u001b[0m\u001b[1;33m)\u001b[0m\u001b[1;33m\u001b[0m\u001b[1;33m\u001b[0m\u001b[0m\n\u001b[1;32m---> 27\u001b[1;33m     \u001b[0mtd\u001b[0m\u001b[1;33m.\u001b[0m\u001b[0msearch_port\u001b[0m\u001b[1;33m(\u001b[0m\u001b[1;34m'的黎波里'\u001b[0m\u001b[1;33m,\u001b[0m\u001b[1;36m1\u001b[0m\u001b[1;33m)\u001b[0m\u001b[1;31m#的黎波里\u001b[0m\u001b[1;33m\u001b[0m\u001b[1;33m\u001b[0m\u001b[0m\n\u001b[0m\u001b[0;32m     28\u001b[0m \u001b[1;33m\u001b[0m\u001b[0m\n\u001b[0;32m     29\u001b[0m \u001b[1;32mdef\u001b[0m \u001b[0mnext_month\u001b[0m\u001b[1;33m(\u001b[0m\u001b[0mm\u001b[0m\u001b[1;33m)\u001b[0m\u001b[1;33m:\u001b[0m\u001b[1;33m\u001b[0m\u001b[1;33m\u001b[0m\u001b[0m\n",
      "\u001b[1;32m~\\Python\\pyAutoGui\\compare_img\\..\\trade_def.py\u001b[0m in \u001b[0;36msearch_port\u001b[1;34m(p, t)\u001b[0m\n\u001b[0;32m     79\u001b[0m     \u001b[0mclick_xy\u001b[0m\u001b[1;33m(\u001b[0m\u001b[1;36m650\u001b[0m\u001b[1;33m,\u001b[0m\u001b[1;36m110\u001b[0m\u001b[1;33m,\u001b[0m\u001b[1;36m1.6\u001b[0m\u001b[1;33m)\u001b[0m\u001b[1;33m\u001b[0m\u001b[1;33m\u001b[0m\u001b[0m\n\u001b[0;32m     80\u001b[0m     \u001b[0mnext_port\u001b[0m\u001b[1;33m(\u001b[0m\u001b[1;36m793\u001b[0m\u001b[1;33m,\u001b[0m\u001b[1;36m473\u001b[0m\u001b[1;33m)\u001b[0m\u001b[1;33m\u001b[0m\u001b[1;33m\u001b[0m\u001b[0m\n\u001b[1;32m---> 81\u001b[1;33m     \u001b[0mnavigation\u001b[0m\u001b[1;33m(\u001b[0m\u001b[0mt\u001b[0m\u001b[1;33m)\u001b[0m\u001b[1;33m\u001b[0m\u001b[1;33m\u001b[0m\u001b[0m\n\u001b[0m\u001b[0;32m     82\u001b[0m \u001b[1;33m\u001b[0m\u001b[0m\n\u001b[0;32m     83\u001b[0m \u001b[1;31m#出售貨物\u001b[0m\u001b[1;33m\u001b[0m\u001b[1;33m\u001b[0m\u001b[0m\n",
      "\u001b[1;32m~\\Python\\pyAutoGui\\compare_img\\..\\trade_def.py\u001b[0m in \u001b[0;36mnavigation\u001b[1;34m(t)\u001b[0m\n\u001b[0;32m     51\u001b[0m \u001b[1;32mdef\u001b[0m \u001b[0mnavigation\u001b[0m\u001b[1;33m(\u001b[0m\u001b[0mt\u001b[0m\u001b[1;33m)\u001b[0m\u001b[1;33m:\u001b[0m\u001b[1;33m\u001b[0m\u001b[1;33m\u001b[0m\u001b[0m\n\u001b[0;32m     52\u001b[0m     \u001b[0mtime\u001b[0m\u001b[1;33m.\u001b[0m\u001b[0msleep\u001b[0m\u001b[1;33m(\u001b[0m\u001b[1;36m1.5\u001b[0m\u001b[1;33m)\u001b[0m\u001b[1;33m\u001b[0m\u001b[1;33m\u001b[0m\u001b[0m\n\u001b[1;32m---> 53\u001b[1;33m     \u001b[0mpress_sleep\u001b[0m\u001b[1;33m(\u001b[0m\u001b[1;34m\"num3\"\u001b[0m\u001b[1;33m,\u001b[0m\u001b[1;36m2.1\u001b[0m\u001b[1;33m)\u001b[0m\u001b[1;33m\u001b[0m\u001b[1;33m\u001b[0m\u001b[0m\n\u001b[0m\u001b[0;32m     54\u001b[0m     \u001b[0mpag\u001b[0m\u001b[1;33m.\u001b[0m\u001b[0mpress\u001b[0m\u001b[1;33m(\u001b[0m\u001b[1;34m\"space\"\u001b[0m\u001b[1;33m)\u001b[0m\u001b[1;33m\u001b[0m\u001b[1;33m\u001b[0m\u001b[0m\n\u001b[0;32m     55\u001b[0m     \u001b[0mtime\u001b[0m\u001b[1;33m.\u001b[0m\u001b[0msleep\u001b[0m\u001b[1;33m(\u001b[0m\u001b[0mt\u001b[0m\u001b[1;33m)\u001b[0m\u001b[1;33m\u001b[0m\u001b[1;33m\u001b[0m\u001b[0m\n",
      "\u001b[1;32m~\\Python\\pyAutoGui\\compare_img\\..\\trade_def.py\u001b[0m in \u001b[0;36mpress_sleep\u001b[1;34m(key, t)\u001b[0m\n\u001b[0;32m      8\u001b[0m \u001b[1;31m#pyautogui.press+sleep組合鍵\u001b[0m\u001b[1;33m\u001b[0m\u001b[1;33m\u001b[0m\u001b[0m\n\u001b[0;32m      9\u001b[0m \u001b[1;32mdef\u001b[0m \u001b[0mpress_sleep\u001b[0m\u001b[1;33m(\u001b[0m\u001b[0mkey\u001b[0m\u001b[1;33m,\u001b[0m\u001b[0mt\u001b[0m\u001b[1;33m)\u001b[0m\u001b[1;33m:\u001b[0m\u001b[1;33m\u001b[0m\u001b[1;33m\u001b[0m\u001b[0m\n\u001b[1;32m---> 10\u001b[1;33m     \u001b[0mpag\u001b[0m\u001b[1;33m.\u001b[0m\u001b[0mpress\u001b[0m\u001b[1;33m(\u001b[0m\u001b[0mkey\u001b[0m\u001b[1;33m)\u001b[0m\u001b[1;33m\u001b[0m\u001b[1;33m\u001b[0m\u001b[0m\n\u001b[0m\u001b[0;32m     11\u001b[0m     \u001b[0mtime\u001b[0m\u001b[1;33m.\u001b[0m\u001b[0msleep\u001b[0m\u001b[1;33m(\u001b[0m\u001b[0mt\u001b[0m\u001b[1;33m)\u001b[0m\u001b[1;33m\u001b[0m\u001b[1;33m\u001b[0m\u001b[0m\n\u001b[0;32m     12\u001b[0m \u001b[1;33m\u001b[0m\u001b[0m\n",
      "\u001b[1;32m~\\anaconda3\\lib\\site-packages\\pyautogui\\__init__.py\u001b[0m in \u001b[0;36mwrapper\u001b[1;34m(*args, **kwargs)\u001b[0m\n\u001b[0;32m    597\u001b[0m         \u001b[0mfailSafeCheck\u001b[0m\u001b[1;33m(\u001b[0m\u001b[1;33m)\u001b[0m\u001b[1;33m\u001b[0m\u001b[1;33m\u001b[0m\u001b[0m\n\u001b[0;32m    598\u001b[0m         \u001b[0mreturnVal\u001b[0m \u001b[1;33m=\u001b[0m \u001b[0mwrappedFunction\u001b[0m\u001b[1;33m(\u001b[0m\u001b[1;33m*\u001b[0m\u001b[0margs\u001b[0m\u001b[1;33m,\u001b[0m \u001b[1;33m**\u001b[0m\u001b[0mkwargs\u001b[0m\u001b[1;33m)\u001b[0m\u001b[1;33m\u001b[0m\u001b[1;33m\u001b[0m\u001b[0m\n\u001b[1;32m--> 599\u001b[1;33m         \u001b[0m_handlePause\u001b[0m\u001b[1;33m(\u001b[0m\u001b[0mkwargs\u001b[0m\u001b[1;33m.\u001b[0m\u001b[0mget\u001b[0m\u001b[1;33m(\u001b[0m\u001b[1;34m\"_pause\"\u001b[0m\u001b[1;33m,\u001b[0m \u001b[1;32mTrue\u001b[0m\u001b[1;33m)\u001b[0m\u001b[1;33m)\u001b[0m\u001b[1;33m\u001b[0m\u001b[1;33m\u001b[0m\u001b[0m\n\u001b[0m\u001b[0;32m    600\u001b[0m         \u001b[1;32mreturn\u001b[0m \u001b[0mreturnVal\u001b[0m\u001b[1;33m\u001b[0m\u001b[1;33m\u001b[0m\u001b[0m\n\u001b[0;32m    601\u001b[0m \u001b[1;33m\u001b[0m\u001b[0m\n",
      "\u001b[1;32m~\\anaconda3\\lib\\site-packages\\pyautogui\\__init__.py\u001b[0m in \u001b[0;36m_handlePause\u001b[1;34m(_pause)\u001b[0m\n\u001b[0;32m    641\u001b[0m     \u001b[1;32mif\u001b[0m \u001b[0m_pause\u001b[0m\u001b[1;33m:\u001b[0m\u001b[1;33m\u001b[0m\u001b[1;33m\u001b[0m\u001b[0m\n\u001b[0;32m    642\u001b[0m         \u001b[1;32massert\u001b[0m \u001b[0misinstance\u001b[0m\u001b[1;33m(\u001b[0m\u001b[0mPAUSE\u001b[0m\u001b[1;33m,\u001b[0m \u001b[0mint\u001b[0m\u001b[1;33m)\u001b[0m \u001b[1;32mor\u001b[0m \u001b[0misinstance\u001b[0m\u001b[1;33m(\u001b[0m\u001b[0mPAUSE\u001b[0m\u001b[1;33m,\u001b[0m \u001b[0mfloat\u001b[0m\u001b[1;33m)\u001b[0m\u001b[1;33m\u001b[0m\u001b[1;33m\u001b[0m\u001b[0m\n\u001b[1;32m--> 643\u001b[1;33m         \u001b[0mtime\u001b[0m\u001b[1;33m.\u001b[0m\u001b[0msleep\u001b[0m\u001b[1;33m(\u001b[0m\u001b[0mPAUSE\u001b[0m\u001b[1;33m)\u001b[0m\u001b[1;33m\u001b[0m\u001b[1;33m\u001b[0m\u001b[0m\n\u001b[0m\u001b[0;32m    644\u001b[0m \u001b[1;33m\u001b[0m\u001b[0m\n\u001b[0;32m    645\u001b[0m \u001b[1;33m\u001b[0m\u001b[0m\n",
      "\u001b[1;31mKeyboardInterrupt\u001b[0m: "
     ]
    }
   ],
   "source": [
    "'''\n",
    "判斷日期進程啟動\n",
    "(運行OK)\n",
    "'''        \n",
    "month = {1:31, 2:28, 3:31, 4:30, 5:31, 6:30, 7:31, 8:31, 9:30, 10:31, 11:30, 12:30}\n",
    "\n",
    "stop = eval(input(\"運作次數：\")) #times\n",
    "m = eval(input(\"請輸入月份：\"))  #月\n",
    "d = eval(input(\"請輸入日期：\"))  #日\n",
    "times = 0\n",
    "\n",
    "while True:\n",
    "    if d == month[m]: #當月最後一天\n",
    "        time.sleep(600+61-int(datetime.now().strftime('%S')))\n",
    "        d = 10\n",
    "        next_month(m)\n",
    "    elif 10 < d < month[m]:\n",
    "        time.sleep(600+61-int(datetime.now().strftime('%S'))+(month[m]-d-1)*60)\n",
    "        d = 10\n",
    "        next_month(m)\n",
    "    elif d < 10:\n",
    "        time.sleep(61-int(datetime.now().strftime('%S'))+(60*(10-(d+1))))\n",
    "        d = 10\n",
    "        \n",
    "    if d == 10:\n",
    "        st = time.time()\n",
    "        route_bm2()\n",
    "        print(\"採購完成 {} 次，剩餘 {} 次\".format(times+1,stop-(times+1)))\n",
    "        if times == 0:\n",
    "            print(\"用時:{:.1f} s\".format(time.time()-st))\n",
    "        times += 1\n",
    "        if times == stop:\n",
    "            break\n",
    "        edm = int((time.time()-st)/60)\n",
    "        time.sleep((60-int(datetime.now().strftime('%S')))+((month[m]-(d+edm+1)+1)*60)+601)\n",
    "        next_month(m)        "
   ]
  },
  {
   "cell_type": "code",
   "execution_count": 14,
   "id": "3b319600",
   "metadata": {},
   "outputs": [
    {
     "name": "stdout",
     "output_type": "stream",
     "text": [
      "6\n"
     ]
    }
   ],
   "source": [
    "'''\n",
    "圖片辨識日期啟動\n",
    "限制：漢堡船塢旁待機\n",
    "(條件:漢堡船塢待機才能判別日期圖片為10號)\n",
    "(運行OK)\n",
    "'''\n",
    "stop = eval(input(\"運作次數：\")) #times\n",
    "s = 0\n",
    "d = 1\n",
    "\n",
    "while True:\n",
    "    img_day = pag.locateOnScreen('./day10.png',confidence = 0.85, region=(385, 110, 100, 40))\n",
    "    if img_day is None:\n",
    "        time.sleep(15)\n",
    "    else:\n",
    "        d = 10\n",
    "        \n",
    "    if d == 10:\n",
    "        route_bm()\n",
    "        print(\"採購完成{}次\".format(s+1))\n",
    "        d = 1\n",
    "        s += 1        \n",
    "        if s == stop:\n",
    "            break"
   ]
  },
  {
   "cell_type": "code",
   "execution_count": 10,
   "id": "30f6adc1",
   "metadata": {},
   "outputs": [],
   "source": [
    "#測試區1\n",
    "time.sleep(2)\n",
    "route_bm()"
   ]
  },
  {
   "cell_type": "code",
   "execution_count": 4,
   "id": "1ae2c77c",
   "metadata": {},
   "outputs": [],
   "source": [
    "#測試區2\n",
    "time.sleep(2)\n",
    "route_bm2()"
   ]
  },
  {
   "cell_type": "code",
   "execution_count": 29,
   "id": "53cce3d1",
   "metadata": {},
   "outputs": [],
   "source": [
    "#done:11.8s all\n",
    "#done:10.9s 特定區域\n",
    "#done:41.1s 特定區域切分五塊+所有圖片比對"
   ]
  }
 ],
 "metadata": {
  "kernelspec": {
   "display_name": "Python 3 (ipykernel)",
   "language": "python",
   "name": "python3"
  },
  "language_info": {
   "codemirror_mode": {
    "name": "ipython",
    "version": 3
   },
   "file_extension": ".py",
   "mimetype": "text/x-python",
   "name": "python",
   "nbconvert_exporter": "python",
   "pygments_lexer": "ipython3",
   "version": "3.9.13"
  }
 },
 "nbformat": 4,
 "nbformat_minor": 5
}
