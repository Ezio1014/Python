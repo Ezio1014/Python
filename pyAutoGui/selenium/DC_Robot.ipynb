{
 "cells": [
  {
   "cell_type": "code",
   "execution_count": 3,
   "id": "b915fbe3",
   "metadata": {},
   "outputs": [],
   "source": [
    "from selenium import webdriver"
   ]
  },
  {
   "cell_type": "code",
   "execution_count": 6,
   "id": "167363c7",
   "metadata": {},
   "outputs": [
    {
     "name": "stderr",
     "output_type": "stream",
     "text": [
      "C:\\Users\\a2246\\AppData\\Local\\Temp\\ipykernel_8448\\806443308.py:1: DeprecationWarning: executable_path has been deprecated, please pass in a Service object\n",
      "  driver = webdriver.Chrome('./chromedriver')    # 指向 chromedriver 的位置\n"
     ]
    }
   ],
   "source": [
    "driver = webdriver.Chrome('./chromedriver')    # 指向 chromedriver 的位置\n",
    "driver.get('https://www.google.com')           # 打開瀏覽器，開啟網頁"
   ]
  },
  {
   "cell_type": "code",
   "execution_count": null,
   "id": "bc5c3a43",
   "metadata": {},
   "outputs": [],
   "source": []
  }
 ],
 "metadata": {
  "kernelspec": {
   "display_name": "Python 3 (ipykernel)",
   "language": "python",
   "name": "python3"
  },
  "language_info": {
   "codemirror_mode": {
    "name": "ipython",
    "version": 3
   },
   "file_extension": ".py",
   "mimetype": "text/x-python",
   "name": "python",
   "nbconvert_exporter": "python",
   "pygments_lexer": "ipython3",
   "version": "3.9.13"
  }
 },
 "nbformat": 4,
 "nbformat_minor": 5
}
