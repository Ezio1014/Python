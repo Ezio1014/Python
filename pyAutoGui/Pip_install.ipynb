{
 "cells": [
  {
   "cell_type": "code",
   "execution_count": null,
   "id": "4b5fa854",
   "metadata": {},
   "outputs": [],
   "source": [
    "pip install pyautogui\n"
   ]
  },
  {
   "cell_type": "code",
   "execution_count": null,
   "id": "ff397d17",
   "metadata": {},
   "outputs": [],
   "source": [
    "'''\n",
    "#功能說明:\n",
    "\n",
    "pyautogui.press(\"key\")\n",
    "按下鍵盤按鍵\n",
    "    \n",
    "pyautogui.scroll(value)\n",
    "滑鼠滾輪，正值向上，負值向下\n",
    "\n",
    "pyautogui.dragTo(100, 100, duration=2, button='right')\n",
    "#用2秒按住滑鼠右鍵到x=100，y=100的位置\n",
    "    duration參數:用時X秒\n",
    "    button參數:左(left)、中(middle)、右(right)\n",
    "\n",
    "pyautogui.position()\n",
    "判斷滑鼠目前位置\n",
    "\n",
    "'''"
   ]
  }
 ],
 "metadata": {
  "kernelspec": {
   "display_name": "Python 3",
   "language": "python",
   "name": "python3"
  },
  "language_info": {
   "codemirror_mode": {
    "name": "ipython",
    "version": 3
   },
   "file_extension": ".py",
   "mimetype": "text/x-python",
   "name": "python",
   "nbconvert_exporter": "python",
   "pygments_lexer": "ipython3",
   "version": "3.8.8"
  }
 },
 "nbformat": 4,
 "nbformat_minor": 5
}
