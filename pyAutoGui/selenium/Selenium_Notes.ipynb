{
 "cells": [
  {
   "cell_type": "code",
   "execution_count": null,
   "id": "0ef70715",
   "metadata": {},
   "outputs": [],
   "source": [
    "#安裝selenium\n",
    "#!pip install selenium"
   ]
  },
  {
   "cell_type": "code",
   "execution_count": 1,
   "id": "4e303f09",
   "metadata": {},
   "outputs": [
    {
     "name": "stderr",
     "output_type": "stream",
     "text": [
      "C:\\Users\\a2246\\AppData\\Local\\Temp\\ipykernel_16312\\4054681681.py:7: DeprecationWarning: executable_path has been deprecated, please pass in a Service object\n",
      "  driver = webdriver.Chrome('./chromedriver')\n"
     ]
    },
    {
     "name": "stdout",
     "output_type": "stream",
     "text": [
      "A ( id=\"a\" )\n",
      "B ( class=\"btn\" )\n",
      "C ( class=\"test\" )\n",
      "D ( name=\"dog\" )\n",
      "https://www.google.com/\n"
     ]
    }
   ],
   "source": [
    "'''\n",
    "取得網頁元素 \n",
    "要模擬真人操作網頁的第一步，就是要知道觸碰了哪些網頁元素，\n",
    "首先載入 selenium 的 By 模組，接著就能使用 find_element() 搭配參數設定，\n",
    "取得指定的網頁元素，下方列出 find_element() \n",
    "常用參數設定 ( 如果將方法的 element 改為 elements，會以串列方式回傳找到的元素 )：\n",
    "'''\n",
    "#範例\n",
    "from selenium import webdriver\n",
    "from selenium.webdriver.common.by import By\n",
    "from selenium.webdriver.support.select import Select   # 使用 Select 對應下拉選單\n",
    "import time\n",
    "\n",
    "driver = webdriver.Chrome('./chromedriver')\n",
    "driver.get('https://example.oxxostudio.tw/python/selenium/demo.html')  # 開啟範例網址\n",
    "a = driver.find_element(By.ID, 'a')                # 取得 id 為 a 的網頁元素 ( 按鈕 A )\n",
    "b = driver.find_element(By.CLASS_NAME, 'btn')      # 取得 class 為 btn 的網頁元素 ( 按鈕 B )\n",
    "c = driver.find_element(By.CSS_SELECTOR, '.test')  # 取得 class 為 test 的網頁元素 ( 按鈕 C )\n",
    "d = driver.find_element(By.NAME, 'dog')            # 取得屬性 name 為 dog 的網頁元素 ( 按鈕 D )\n",
    "h1 = driver.find_element(By.TAG_NAME, 'h1')        # 取得 tag h1 的網頁元素\n",
    "link1 = driver.find_element(By.LINK_TEXT, '我是超連結，點擊會開啟 Google 網站')  # 取得指定超連結文字的網頁元素\n",
    "link2 = driver.find_element(By.PARTIAL_LINK_TEXT, 'Google') # 取得超連結文字包含 Google 的網頁元素\n",
    "select = Select(driver.find_element(By.XPATH, '/html/body/select'))   # 取得 html > body > select 這個網頁元素\n",
    "\n",
    "a.click()        # 點擊 a\n",
    "print(a.text)    # 印出 a 元素的內容\n",
    "time.sleep(0.5)\n",
    "b.click()        # 點擊 b\n",
    "print(b.text)    # 印出 b 元素的內容\n",
    "time.sleep(0.5)\n",
    "c.click()        # 點擊 c\n",
    "print(c.text)    # 印出 c 元素的內容\n",
    "time.sleep(0.5)\n",
    "d.click()        # 點擊 d\n",
    "print(d.text)    # 印出 d 元素的內容\n",
    "time.sleep(0.5)\n",
    "select.select_by_index(2)  # 下拉選單選擇第三項 ( 第一項為 0 )\n",
    "time.sleep(0.5)\n",
    "h1.click()       # 點擊 h1\n",
    "time.sleep(0.5)\n",
    "link1.click()    # 點擊 link1\n",
    "time.sleep(0.5)\n",
    "link2.click()    # 點擊 link2\n",
    "print(link2.get_attribute('href'))   # 印出 link2 元素的 href 屬性"
   ]
  },
  {
   "cell_type": "code",
   "execution_count": 7,
   "id": "97b9c6a6",
   "metadata": {},
   "outputs": [
    {
     "name": "stdout",
     "output_type": "stream",
     "text": [
      "方法                           ActionChains參數    說明\n",
      "-----------------------------  ------------------  ---------------------------------------------\n",
      "click()                        element             按下滑鼠左鍵\n",
      "click_and_hold()               element             滑鼠左鍵按著不放\n",
      "double_click()                 element             連續按兩下滑鼠左鍵\n",
      "context_click()                element             按下滑鼠右鍵 ( 需搭配指定元素定位 )\n",
      "drag_and_drop()                source, target      點擊 source 元素後，移動到 target 元素放開\n",
      "drag_and_drop_by_offset()      source, x, y        點擊 source 元素後，移動到指定的座標位置放開\n",
      "move_by_offset()               x, y                移動滑鼠座標到指定位置\n",
      "move_to_element()              element             移動滑鼠到某個元素上\n",
      "move_to_element_with_offset()  element, x, y       移動滑鼠到某個元素的相對座標位置\n",
      "release()                      element             放開滑鼠\n",
      "send_keys()                    values              送出某個鍵盤按鍵值\n",
      "send_keys_to_element()         element, values     向某個元素發送鍵盤按鍵值\n",
      "key_down()                     value               按著鍵盤某個鍵\n",
      "key_up()                       value               放開鍵盤某個鍵\n",
      "reset_actions()                                    清除儲存的動作 ( 實測沒有作用，查訊後是 Bug )\n",
      "pause()                        seconds             暫停動作\n",
      "perform()                                          執行儲存的動作\n"
     ]
    }
   ],
   "source": [
    "from tabulate import tabulate\n",
    "'''\n",
    "操作網頁元素 \n",
    "使用 Selenium 函式庫操作網頁元素下列幾種方法：\n",
    "'''\n",
    "html_element_list\\\n",
    "= [['click()','element','按下滑鼠左鍵']\\\n",
    "   ,['click_and_hold()','element','滑鼠左鍵按著不放']\\\n",
    "   ,['double_click()','element','連續按兩下滑鼠左鍵']\\\n",
    "   ,['context_click()','element','按下滑鼠右鍵 ( 需搭配指定元素定位 )']\\\n",
    "   ,['drag_and_drop()','source, target','點擊 source 元素後，移動到 target 元素放開']\\\n",
    "   ,['drag_and_drop_by_offset()','source, x, y','點擊 source 元素後，移動到指定的座標位置放開']\\\n",
    "   ,['move_by_offset()','x, y','移動滑鼠座標到指定位置']\\\n",
    "   ,['move_to_element()','element','移動滑鼠到某個元素上']\\\n",
    "   ,['move_to_element_with_offset()','element, x, y','移動滑鼠到某個元素的相對座標位置']\\\n",
    "   ,['release()','element','放開滑鼠']\\\n",
    "   ,['send_keys()','values','送出某個鍵盤按鍵值']\\\n",
    "   ,['send_keys_to_element()','element, values','向某個元素發送鍵盤按鍵值']\\\n",
    "   ,['key_down()','value','按著鍵盤某個鍵']\\\n",
    "   ,['key_up()','value','放開鍵盤某個鍵']\\\n",
    "   ,['reset_actions()','','清除儲存的動作 ( 實測沒有作用，查訊後是 Bug )']\\\n",
    "   ,['pause()','seconds','暫停動作']\\\n",
    "   ,['perform()','','執行儲存的動作']]\n",
    "\n",
    "print(tabulate(html_element_list, headers=[\"方法\", \"ActionChains參數\", \"說明\"]))"
   ]
  },
  {
   "cell_type": "code",
   "execution_count": null,
   "id": "7a90e0f3",
   "metadata": {},
   "outputs": [],
   "source": []
  }
 ],
 "metadata": {
  "kernelspec": {
   "display_name": "Python 3 (ipykernel)",
   "language": "python",
   "name": "python3"
  },
  "language_info": {
   "codemirror_mode": {
    "name": "ipython",
    "version": 3
   },
   "file_extension": ".py",
   "mimetype": "text/x-python",
   "name": "python",
   "nbconvert_exporter": "python",
   "pygments_lexer": "ipython3",
   "version": "3.9.13"
  }
 },
 "nbformat": 4,
 "nbformat_minor": 5
}
