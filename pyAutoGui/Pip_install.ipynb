{
 "cells": [
  {
   "cell_type": "code",
   "execution_count": 2,
   "id": "4b5fa854",
   "metadata": {},
   "outputs": [
    {
     "name": "stdout",
     "output_type": "stream",
     "text": [
      "Requirement already satisfied: ipython in c:\\users\\a2246\\anaconda3\\lib\\site-packages (7.31.1)\n",
      "Requirement already satisfied: decorator in c:\\users\\a2246\\anaconda3\\lib\\site-packages (from ipython) (5.1.1)\n",
      "Requirement already satisfied: pygments in c:\\users\\a2246\\anaconda3\\lib\\site-packages (from ipython) (2.11.2)\n",
      "Requirement already satisfied: backcall in c:\\users\\a2246\\anaconda3\\lib\\site-packages (from ipython) (0.2.0)\n",
      "Requirement already satisfied: jedi>=0.16 in c:\\users\\a2246\\anaconda3\\lib\\site-packages (from ipython) (0.18.1)\n",
      "Requirement already satisfied: traitlets>=4.2 in c:\\users\\a2246\\anaconda3\\lib\\site-packages (from ipython) (5.1.1)\n",
      "Requirement already satisfied: matplotlib-inline in c:\\users\\a2246\\anaconda3\\lib\\site-packages (from ipython) (0.1.6)\n",
      "Requirement already satisfied: setuptools>=18.5 in c:\\users\\a2246\\anaconda3\\lib\\site-packages (from ipython) (63.4.1)\n",
      "Requirement already satisfied: pickleshare in c:\\users\\a2246\\anaconda3\\lib\\site-packages (from ipython) (0.7.5)\n",
      "Requirement already satisfied: colorama in c:\\users\\a2246\\anaconda3\\lib\\site-packages (from ipython) (0.4.5)\n",
      "Requirement already satisfied: prompt-toolkit!=3.0.0,!=3.0.1,<3.1.0,>=2.0.0 in c:\\users\\a2246\\anaconda3\\lib\\site-packages (from ipython) (3.0.20)\n",
      "Requirement already satisfied: parso<0.9.0,>=0.8.0 in c:\\users\\a2246\\anaconda3\\lib\\site-packages (from jedi>=0.16->ipython) (0.8.3)\n",
      "Requirement already satisfied: wcwidth in c:\\users\\a2246\\anaconda3\\lib\\site-packages (from prompt-toolkit!=3.0.0,!=3.0.1,<3.1.0,>=2.0.0->ipython) (0.2.5)\n"
     ]
    }
   ],
   "source": [
    "#!pip install --upgrade pip\n",
    "#!pip3 install --upgrade pip\n",
    "#!pip install pyautogui\n",
    "#!pip install keyboard\n",
    "#!pip install opencv-python\n",
    "#!pip install pyinstaller\n",
    "#!pip install ipython"
   ]
  },
  {
   "cell_type": "code",
   "execution_count": null,
   "id": "ff397d17",
   "metadata": {},
   "outputs": [],
   "source": [
    "'''\n",
    "#功能說明:\n",
    "\n",
    "pyautogui.press(\"key\")\n",
    "按下鍵盤按鍵\n",
    "    \n",
    "pyautogui.scroll(value)\n",
    "滑鼠滾輪，正值向上，負值向下\n",
    "\n",
    "pyautogui.dragTo(100, 100, duration=2, button='right')\n",
    "#用2秒按住滑鼠右鍵到x=100，y=100的位置\n",
    "    duration參數:用時X秒\n",
    "    button參數:左(left)、中(middle)、右(right)\n",
    "\n",
    "pyautogui.position()\n",
    "判斷滑鼠目前位置\n",
    "\n",
    "screenshot(region=(0,0, 300, 400))\n",
    "擷取圖片的 x,y 座標及 w,h 圖片的寬高\n",
    "\n",
    "'''"
   ]
  },
  {
   "cell_type": "code",
   "execution_count": null,
   "id": "950c3649",
   "metadata": {},
   "outputs": [],
   "source": [
    "'''\n",
    "img = cv2.imread('./img/ghostFlag.png',-1)   # 開啟圖片，預設使用 cv2.IMREAD_COLOR 模式\n",
    "\n",
    "type(img)\n",
    "cv2.imshow('image', img)\n",
    "cv2.waitKey(0)\n",
    "cv2.destroyAllWindows()\n",
    "'''"
   ]
  }
 ],
 "metadata": {
  "kernelspec": {
   "display_name": "Python 3 (ipykernel)",
   "language": "python",
   "name": "python3"
  },
  "language_info": {
   "codemirror_mode": {
    "name": "ipython",
    "version": 3
   },
   "file_extension": ".py",
   "mimetype": "text/x-python",
   "name": "python",
   "nbconvert_exporter": "python",
   "pygments_lexer": "ipython3",
   "version": "3.9.13"
  }
 },
 "nbformat": 4,
 "nbformat_minor": 5
}
