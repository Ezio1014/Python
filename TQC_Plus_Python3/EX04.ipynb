{
 "cells": [
  {
   "cell_type": "code",
   "execution_count": 1,
   "id": "e06db27e",
   "metadata": {},
   "outputs": [
    {
     "name": "stdout",
     "output_type": "stream",
     "text": [
      "20\n",
      "20\n",
      "10\n",
      "10\n",
      "10\n",
      "10\n",
      "10\n",
      "10\n",
      "5\n",
      "5\n"
     ]
    }
   ],
   "source": [
    "'''EX4-01 最小值'''\n",
    "stop = 1\n",
    "list_n = []\n",
    "\n",
    "while True:\n",
    "    n = eval(input())\n",
    "    list_n.append(n)\n",
    "    \n",
    "    stop +=1\n",
    "    if stop == 10:\n",
    "        break\n",
    "\n",
    "print(min(list_n))"
   ]
  },
  {
   "cell_type": "code",
   "execution_count": null,
   "id": "99493656",
   "metadata": {},
   "outputs": [],
   "source": [
    "'''EX4-02 不定數迴圈 最小值'''\n",
    "\n",
    "min_v = 0\n",
    "fl = 9999\n",
    "\n",
    "while True:\n",
    "    min_v = input('enter a number')\n",
    "    try:\n",
    "        min_v = int(min_v)\n",
    "        \n",
    "        if isinstance(min_v,int):\n",
    "            if (min_v < fl):\n",
    "                fl = min_v\n",
    "                continue\n",
    "            \n",
    "            elif (min_v == 9999):\n",
    "                '''print(fl)'''\n",
    "                break\n",
    "                \n",
    "    except Exception as e:\n",
    "        print('retry enter a number for a')\n",
    "        continue\n",
    "        \n",
    "print(fl)"
   ]
  },
  {
   "cell_type": "code",
   "execution_count": 21,
   "id": "bd4e424f",
   "metadata": {},
   "outputs": [
    {
     "name": "stdout",
     "output_type": "stream",
     "text": [
      "5\n",
      "55\n",
      "8   9   12  16  18  20  24  27  28  32  \n",
      "36  40  44  45  48  52  54  \n",
      "17\n",
      "513\n"
     ]
    }
   ],
   "source": [
    "'''EX4-03 倍數總和計算'''\n",
    "a = eval(input())\n",
    "b = eval(input())\n",
    "list_n = []\n",
    "count = 0\n",
    "\n",
    "for i in range(a,b+1):\n",
    "    if i % 4 == 0 or i % 9 == 0:\n",
    "        list_n.append(i)\n",
    "\n",
    "for j in list_n:\n",
    "    print(\"%-4d\" %j ,end='')\n",
    "    count +=1\n",
    "    if count % 10 ==0:\n",
    "        print(end=\"\\n\")\n",
    "        \n",
    "print(end = \"\\n\")\n",
    "print(len(list_n))\n",
    "print(sum(list_n))"
   ]
  },
  {
   "cell_type": "code",
   "execution_count": 29,
   "id": "c68c70b7",
   "metadata": {},
   "outputs": [
    {
     "name": "stdout",
     "output_type": "stream",
     "text": [
      "7890\n",
      "0987\n"
     ]
    }
   ],
   "source": [
    "'''EX4-04 數字反轉判斷'''\n",
    "n = input()\n",
    "p = n[::-1]\n",
    "print(p)"
   ]
  },
  {
   "cell_type": "code",
   "execution_count": 34,
   "id": "4d8d8c23",
   "metadata": {},
   "outputs": [
    {
     "name": "stdout",
     "output_type": "stream",
     "text": [
      "55\n",
      "\u001b[1mE\u001b[0m\n",
      "-9999\n"
     ]
    }
   ],
   "source": [
    "'''EX4-05 不定數迴圈 分數等級'''\n",
    "'''\\033[1m 粗體'''\n",
    "'''\\033[0m 還原字體'''\n",
    "\n",
    "while True:\n",
    "    s = eval(input())\n",
    "    \n",
    "    if s == -9999:\n",
    "        break\n",
    "        \n",
    "    if 0 <= s <= 59:\n",
    "        print('\\033[1m'+\"E\",end = '')\n",
    "        print('\\033[0m')\n",
    "    elif 60 <= s <= 69:\n",
    "        print('\\033[1m'+\"D\",end = '')\n",
    "        print('\\033[0m')\n",
    "    elif 70 <= s <= 79:\n",
    "        print('\\033[1m'+\"C\",end = '')\n",
    "        print('\\033[0m')\n",
    "    elif 80 <= s <= 89:\n",
    "        print('\\033[1m'+\"B\",end = '')\n",
    "        print('\\033[0m')\n",
    "    elif 90 <= s <= 100:\n",
    "        print('\\033[1m'+\"A\",end = '')\n",
    "        print('\\033[0m')"
   ]
  },
  {
   "cell_type": "code",
   "execution_count": 39,
   "id": "ccd3d15e",
   "metadata": {},
   "outputs": [
    {
     "name": "stdout",
     "output_type": "stream",
     "text": [
      "170\n",
      "60\n",
      "BMI: 20.76\n",
      "State: normal\n",
      "-9999\n"
     ]
    }
   ],
   "source": [
    "'''EX4-06 不定數迴圈 BMI計算'''\n",
    "while True:\n",
    "    num_cm = eval(input())\n",
    "    if num_cm == -9999:\n",
    "        break\n",
    "        \n",
    "    num_kg = eval(input())\n",
    "    if num_kg == -9999:\n",
    "        break\n",
    "        \n",
    "    BMI = num_kg/((num_cm/100)**2)        \n",
    "    if BMI < 18.5:\n",
    "        print(\"BMI: {:.2f}\".format(BMI))\n",
    "        print(\"State: under weight\")\n",
    "    elif 18.5 <= BMI < 25:\n",
    "        print(\"BMI: {:.2f}\".format(BMI))\n",
    "        print(\"State: normal\")\n",
    "    elif 25 <= BMI < 30:\n",
    "        print(\"BMI: {:.2f}\".format(BMI))\n",
    "        print(\"State: over weight\")\n",
    "    elif BMI >= 30:\n",
    "        print(\"BMI: {:.2f}\".format(BMI))\n",
    "        print(\"State: fat\")"
   ]
  },
  {
   "cell_type": "code",
   "execution_count": 40,
   "id": "bcb50365",
   "metadata": {},
   "outputs": [
    {
     "name": "stdout",
     "output_type": "stream",
     "text": [
      "100\n",
      "100 is not a leap year.\n",
      "120\n",
      "120 is a leap year.\n",
      "400\n",
      "400 is a leap year.\n",
      "500\n",
      "500 is not a leap year.\n",
      "600\n",
      "600 is not a leap year.\n",
      "800\n",
      "800 is a leap year.\n",
      "2017\n",
      "2017 is not a leap year.\n",
      "2018\n",
      "2018 is not a leap year.\n",
      "2020\n",
      "2020 is a leap year.\n",
      "-9999\n"
     ]
    }
   ],
   "source": [
    "'''EX4-07 不定數迴圈 閏年判斷'''\n",
    "while True:\n",
    "    year = eval(input())\n",
    "    if year == -9999:\n",
    "        break\n",
    "    elif year % 400 != 0:\n",
    "        if year % 100 == 0:\n",
    "            print(\"{} is not a leap year.\".format(year))\n",
    "        elif year % 4 != 0:\n",
    "            print(\"{} is not a leap year.\".format(year))\n",
    "        else:\n",
    "            print(\"{} is a leap year.\".format(year))\n",
    "    else:\n",
    "        print(\"{} is a leap year.\".format(year))\n",
    "    "
   ]
  },
  {
   "cell_type": "code",
   "execution_count": 36,
   "id": "c89d99e8",
   "metadata": {},
   "outputs": [
    {
     "name": "stdout",
     "output_type": "stream",
     "text": [
      "10\n",
      "20\n",
      "30\n",
      "40\n",
      "50\n",
      "60\n",
      "70\n",
      "80\n",
      "99\n",
      "101\n",
      "Even numbers: 8\n",
      "Odd numbers: 2\n"
     ]
    }
   ],
   "source": [
    "'''EX4-08 奇偶數個數計算'''\n",
    "Even = 0\n",
    "Odd = 0\n",
    "stop = 0\n",
    "while True:\n",
    "    num = eval(input())\n",
    "    if num % 2 == 0:\n",
    "        Even += 1\n",
    "    else:\n",
    "        Odd += 1\n",
    "        \n",
    "    stop += 1\n",
    "    if stop == 10:\n",
    "        break\n",
    "\n",
    "print(\"Even numbers: {}\".format(Even))\n",
    "print(\"Odd numbers: {}\".format(Odd))"
   ]
  },
  {
   "cell_type": "code",
   "execution_count": 44,
   "id": "775ae568",
   "metadata": {},
   "outputs": [
    {
     "name": "stdout",
     "output_type": "stream",
     "text": [
      "1\n",
      "Total votes of No.1: Nami = 1\n",
      "Total votes of No.1: Nami = 0\n",
      "Total votes of No.1: Nami = 0\n",
      "2\n",
      "Total votes of No.1: Nami = 1\n",
      "Total votes of No.1: Nami = 1\n",
      "Total votes of No.1: Nami = 0\n",
      "1\n",
      "Total votes of No.1: Nami = 2\n",
      "Total votes of No.1: Nami = 1\n",
      "Total votes of No.1: Nami = 0\n",
      "2\n",
      "Total votes of No.1: Nami = 2\n",
      "Total votes of No.1: Nami = 2\n",
      "Total votes of No.1: Nami = 0\n",
      "3\n",
      "Total votes of No.1: Nami = 2\n",
      "Total votes of No.1: Nami = 2\n",
      "Total votes of No.1: Nami = 1\n",
      "=> No one won the election.\n"
     ]
    }
   ],
   "source": [
    "'''EX4-09 得票數計算'''\n",
    "t = 0\n",
    "n1 = 0\n",
    "n2 = 0\n",
    "nu = 0\n",
    "while True:\n",
    "    vote = eval(input())\n",
    "    if vote == 1:\n",
    "        n1 +=1\n",
    "    elif vote ==2:\n",
    "        n2 +=1\n",
    "    else:\n",
    "        nu +=1\n",
    "    print(\"Total votes of No.1: Nami = {}\".format(n1))\n",
    "    print(\"Total votes of No.1: Nami = {}\".format(n2))\n",
    "    print(\"Total votes of No.1: Nami = {}\".format(nu))\n",
    "    \n",
    "    t += 1\n",
    "    if t == 5:\n",
    "        break\n",
    "    \n",
    "if n1>n2:\n",
    "    print(\"=> No.1 Nami won the election.\")\n",
    "elif n1<n2:\n",
    "    print(\"=> No.2 Chopper won the election.\")\n",
    "else:\n",
    "    print(\"=> No one won the election.\")"
   ]
  },
  {
   "cell_type": "code",
   "execution_count": 2,
   "id": "59c652b3",
   "metadata": {},
   "outputs": [
    {
     "name": "stdout",
     "output_type": "stream",
     "text": [
      "8\n",
      "       *\n",
      "      ***\n",
      "     *****\n",
      "    *******\n",
      "   *********\n",
      "  ***********\n",
      " *************\n",
      "***************\n"
     ]
    }
   ],
   "source": [
    "'''EX4-10 繪製等腰三角形'''\n",
    "n = eval(input())\n",
    "\n",
    "for i in range(1,n+1):\n",
    "    s = n-i\n",
    "    print(\" \"*s+\"*\"*(i*2-1))"
   ]
  }
 ],
 "metadata": {
  "kernelspec": {
   "display_name": "Python 3",
   "language": "python",
   "name": "python3"
  },
  "language_info": {
   "codemirror_mode": {
    "name": "ipython",
    "version": 3
   },
   "file_extension": ".py",
   "mimetype": "text/x-python",
   "name": "python",
   "nbconvert_exporter": "python",
   "pygments_lexer": "ipython3",
   "version": "3.8.8"
  }
 },
 "nbformat": 4,
 "nbformat_minor": 5
}
