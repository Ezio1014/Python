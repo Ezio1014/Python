{
 "cells": [
  {
   "cell_type": "code",
   "execution_count": null,
   "id": "e06db27e",
   "metadata": {},
   "outputs": [],
   "source": [
    "'''EX1-02 浮點數格式化輸出'''\n",
    "x1 = 23.12\n",
    "x2 = 395.3\n",
    "x3 = 100.4617\n",
    "x4 = 564.329\n",
    "    \n",
    "print(\"|%7.2f %-7.2f|\" % (x1 , x2))\n",
    "print(\"|%7.2f %-7.2f|\" % (x3 , x4))"
   ]
  }
 ],
 "metadata": {
  "kernelspec": {
   "display_name": "Python 3",
   "language": "python",
   "name": "python3"
  },
  "language_info": {
   "codemirror_mode": {
    "name": "ipython",
    "version": 3
   },
   "file_extension": ".py",
   "mimetype": "text/x-python",
   "name": "python",
   "nbconvert_exporter": "python",
   "pygments_lexer": "ipython3",
   "version": "3.8.8"
  }
 },
 "nbformat": 4,
 "nbformat_minor": 5
}
