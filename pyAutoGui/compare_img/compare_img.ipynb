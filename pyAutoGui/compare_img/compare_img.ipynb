{
 "cells": [
  {
   "cell_type": "code",
   "execution_count": 2,
   "id": "623365bb",
   "metadata": {},
   "outputs": [],
   "source": [
    "from IPython.display import Video\n",
    "from IPython.display import YouTubeVideo\n",
    "import imp\n",
    "import time\n",
    "import pyautogui as pag\n",
    "import keyboard\n",
    "import numpy as np\n",
    "import cv2\n",
    "import os\n",
    "import sys\n",
    "import msvcrt\n",
    "from datetime import datetime"
   ]
  },
  {
   "cell_type": "code",
   "execution_count": 3,
   "id": "d714114f",
   "metadata": {},
   "outputs": [],
   "source": [
    "#import 上層.py檔\n",
    "sys.path.append(\"..\")\n",
    "import trade_def as td"
   ]
  },
  {
   "cell_type": "code",
   "execution_count": 4,
   "id": "0a162ae9",
   "metadata": {},
   "outputs": [],
   "source": [
    "imp.reload(td)\n",
    "\n",
    "#黑市購買迴圈(條件:漢堡船塢待機才能判別日期圖片為10號)\n",
    "def route_bm():\n",
    "    place_dict = {'阿姆斯特丹':16,'安特衛普':16,'倫敦':15,'加來':18,'普利茅斯':17,'南特':20\\\n",
    "                  ,'波爾多':15,'波爾圖':25,'里斯本':16,'塞維利亞':16,'休達':13,'阿爾及爾':20}\n",
    "    time.sleep(2)\n",
    "    \n",
    "    td.black_market() #漢堡    \n",
    "    \n",
    "    #搭配字典應用 v2.0\n",
    "    for key,value in place_dict.items():\n",
    "        td.black_market(key,value)\n",
    "        \n",
    "    td.search_port('漢堡',61)#返回漢堡\n",
    "    \n",
    "def route_bm2():\n",
    "    place_dict = {'錫拉庫薩':19,'那不勒斯':16,'比薩':17,'熱那亞':15,'馬賽':17,'巴塞隆納':16\\\n",
    "                  ,'瓦倫西亞':15,'阿爾及爾':16,'休達':20,'塞維利亞':13,'里斯本':15,'波爾圖':15}\n",
    "    time.sleep(2)\n",
    "    #stop_trigger = time.time()\n",
    "    td.black_market() #突尼斯\n",
    "    \n",
    "    #搭配字典應用 v2.0\n",
    "    for key,value in place_dict.items():\n",
    "        td.black_market(key,value)\n",
    "        \n",
    "    td.search_port('突尼斯',1)#的黎波里\n",
    "    \n",
    "def next_month(m):\n",
    "    if m == 12:\n",
    "        m = 1\n",
    "    else:\n",
    "        m +=1"
   ]
  },
  {
   "cell_type": "code",
   "execution_count": null,
   "id": "305c3b1c",
   "metadata": {},
   "outputs": [
    {
     "name": "stdout",
     "output_type": "stream",
     "text": [
      "運作次數：2\n",
      "請輸入月份：8\n",
      "請輸入日期：6\n",
      "採購完成1次\n"
     ]
    }
   ],
   "source": [
    "#測試區1(依日期進程)(運行OK)\n",
    "#imp.reload(td)\n",
    "        \n",
    "month = {1:31, 2:28, 3:31, 4:30, 5:31, 6:30, 7:31, 8:31, 9:30, 10:31, 11:30, 12:30}\n",
    "\n",
    "stop = eval(input(\"運作次數：\")) #times\n",
    "m = eval(input(\"請輸入月份：\"))  #月\n",
    "d = eval(input(\"請輸入日期：\"))  #日\n",
    "times = 0\n",
    "\n",
    "while True:\n",
    "    if d == month[m]: #當月最後一天\n",
    "        time.sleep(600+61-int(datetime.now().strftime('%S')))\n",
    "        d = 10\n",
    "        next_month(m)\n",
    "    elif 10 < d < month[m]:\n",
    "        time.sleep(600+61-int(datetime.now().strftime('%S'))+(month[m]-d)*60)\n",
    "        d = 10\n",
    "        next_month(m)\n",
    "    elif d < 10:\n",
    "        time.sleep(61-int(datetime.now().strftime('%S'))+(60*(10-(d+1))))\n",
    "        d = 10\n",
    "        \n",
    "    if d == 10:\n",
    "        st = time.time()\n",
    "        route_bm2()\n",
    "        edm = int((time.time()-st)/60)\n",
    "        time.sleep((60-int(datetime.now().strftime('%S')))+((month[m]-(d+edm+1)+1)*60)+601)\n",
    "        next_month(m)\n",
    "        times += 1\n",
    "        print(\"採購完成{}次\".format(times))\n",
    "        if time == stop:\n",
    "            break"
   ]
  },
  {
   "cell_type": "code",
   "execution_count": 14,
   "id": "3b319600",
   "metadata": {},
   "outputs": [
    {
     "name": "stdout",
     "output_type": "stream",
     "text": [
      "6\n"
     ]
    }
   ],
   "source": [
    "'''\n",
    "測試區2(圖片辨識日期)\n",
    "限制：漢堡船塢旁待機\n",
    "(運行OK)\n",
    "'''\n",
    "#imp.reload(td)\n",
    "\n",
    "stop = eval(input(\"運作次數：\")) #times\n",
    "s = 0\n",
    "d = 1\n",
    "\n",
    "while True:\n",
    "    img_day = pag.locateOnScreen('./day10.png',confidence = 0.85)\n",
    "    if img_day is None:\n",
    "        time.sleep(15)\n",
    "    else:\n",
    "        d = 10\n",
    "        \n",
    "    if d == 10:\n",
    "        route_bm()\n",
    "        print(\"採購完成{}次\".format(times))\n",
    "        s += 1\n",
    "        if s == stop:\n",
    "            break"
   ]
  },
  {
   "cell_type": "code",
   "execution_count": 15,
   "id": "30f6adc1",
   "metadata": {},
   "outputs": [],
   "source": [
    "#route_bm()\n",
    "#route_bm2()"
   ]
  }
 ],
 "metadata": {
  "kernelspec": {
   "display_name": "Python 3",
   "language": "python",
   "name": "python3"
  },
  "language_info": {
   "codemirror_mode": {
    "name": "ipython",
    "version": 3
   },
   "file_extension": ".py",
   "mimetype": "text/x-python",
   "name": "python",
   "nbconvert_exporter": "python",
   "pygments_lexer": "ipython3",
   "version": "3.8.8"
  }
 },
 "nbformat": 4,
 "nbformat_minor": 5
}
