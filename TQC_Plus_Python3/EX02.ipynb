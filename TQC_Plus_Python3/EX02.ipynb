{
 "cells": [
  {
   "cell_type": "code",
   "execution_count": null,
   "id": "e06db27e",
   "metadata": {},
   "outputs": [],
   "source": [
    "'''EX2-02 倍數判斷'''\n",
    "while True:\n",
    "    v = input('enter a number')\n",
    "    try:\n",
    "        v = int(v)\n",
    "        if isinstance(v,int):\n",
    "            if (v >= 0):\n",
    "                break\n",
    "    except Exception as e:\n",
    "        print('retry enter a number')\n",
    "        continue\n",
    "\n",
    "if (v % 15 == 0):\n",
    "    print('%d is a multiple of 3 and 5.' % v)\n",
    "elif (v%5 == 0):\n",
    "    print('%d is a multiple of 5.' % v)\n",
    "elif (v%3 == 0):\n",
    "    print('%d is a multiple of 3.' % v)\n",
    "else:\n",
    "    print('%d is not a multiple of 3 or 5.' % v)"
   ]
  },
  {
   "cell_type": "code",
   "execution_count": null,
   "id": "cfdfc328",
   "metadata": {},
   "outputs": [],
   "source": [
    "'''EX2-03 閏年判斷'''\n"
   ]
  },
  {
   "cell_type": "code",
   "execution_count": 12,
   "id": "d7a774b2",
   "metadata": {},
   "outputs": [
    {
     "name": "stdout",
     "output_type": "stream",
     "text": [
      "39000\n",
      "27300\n"
     ]
    }
   ],
   "source": [
    "'''EX2-07 折扣方案'''\n",
    "pay = eval(input())\n",
    "if pay >= 38000:\n",
    "    print(\"{:.0f}\".format(pay*0.7))\n",
    "elif 38000 > pay >= 28000:\n",
    "    print(\"{:.0f}\".format(pay*0.8))\n",
    "elif 28000 > pay >= 18000:\n",
    "    print(\"{:.0f}\".format(pay*0.9))\n",
    "elif 18000 > pay >= 8000:\n",
    "    print(\"{:.0f}\".format(pay*0.95))\n",
    "else:\n",
    "    print(pay)"
   ]
  },
  {
   "cell_type": "code",
   "execution_count": 4,
   "id": "400419c0",
   "metadata": {},
   "outputs": [
    {
     "name": "stdout",
     "output_type": "stream",
     "text": [
      "1\n",
      "2\n",
      "3\n",
      "Invalid\n"
     ]
    }
   ],
   "source": [
    "'''EX2-10 三角形判斷'''\n",
    "a = eval(input())\n",
    "b = eval(input())\n",
    "c = eval(input())\n",
    "if a+b <= c or a+c <= b or b+c <= a:\n",
    "    print(\"Invalid\")\n",
    "else:\n",
    "    print(a+b+c)"
   ]
  }
 ],
 "metadata": {
  "kernelspec": {
   "display_name": "Python 3",
   "language": "python",
   "name": "python3"
  },
  "language_info": {
   "codemirror_mode": {
    "name": "ipython",
    "version": 3
   },
   "file_extension": ".py",
   "mimetype": "text/x-python",
   "name": "python",
   "nbconvert_exporter": "python",
   "pygments_lexer": "ipython3",
   "version": "3.8.8"
  }
 },
 "nbformat": 4,
 "nbformat_minor": 5
}
