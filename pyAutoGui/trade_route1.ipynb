{
 "cells": [
  {
   "cell_type": "code",
   "execution_count": null,
   "id": "0adb6c39",
   "metadata": {},
   "outputs": [],
   "source": [
    "#貿易路線(東南亞+日本線(天津衛出發))\n",
    "def runSA_JP():\n",
    "    time_start = time.time() #開始計時\n",
    "    \n",
    "    #商品販售1(天津衛出發)\n",
    "    pag.press(\"m\")\n",
    "    time.sleep(1.5)\n",
    "    out_port()\n",
    "\n",
    "    run_trading(942,745,25) #淮安\n",
    "\n",
    "    #基隆\n",
    "    next_port(871,886,1)\n",
    "    navigation(1)\n",
    "    flag() #海盜旗使用\n",
    "    time.sleep(20)\n",
    "    trading()\n",
    "    out_port()\n",
    "\n",
    "    run_trading(900,880,56,4) #安汶\n",
    "    run_trading(613,778,22)   #帝利\n",
    "    run_trading(141,377,30)   #泗水\n",
    "    run_trading(419,209,25)   #巴領旁\n",
    "\n",
    "    #汶萊\n",
    "    next_port(1301,81)\n",
    "    navigation(28)\n",
    "    selfGoods()\n",
    "    out_port()\n",
    "\n",
    "    run_trading(1005,60,55,4) #長崎\n",
    "    run_trading(1131,391,30)  #京都\n",
    "    run_trading(1005,75,40,1) #札幌\n",
    "    run_trading(306,457,25)   #符拉迪沃斯托克\n",
    "    run_trading(674,887,25,1) #釜山\n",
    "    run_trading(624,265,30)   #平壤\n",
    "\n",
    "    #返回天津衛\n",
    "    next_port(388,462)\n",
    "    navigation(21)\n",
    "    selfGoods()    \n",
    "    \n",
    "    time_end = time.time()          #結束計時\n",
    "    time_c= time_end - time_start   #執行所花時間\n",
    "    print('東南亞+日本線貿易時間:{:.1f}'.format(time_c), 's')"
   ]
  }
 ],
 "metadata": {
  "kernelspec": {
   "display_name": "Python 3",
   "language": "python",
   "name": "python3"
  },
  "language_info": {
   "codemirror_mode": {
    "name": "ipython",
    "version": 3
   },
   "file_extension": ".py",
   "mimetype": "text/x-python",
   "name": "python",
   "nbconvert_exporter": "python",
   "pygments_lexer": "ipython3",
   "version": "3.8.8"
  }
 },
 "nbformat": 4,
 "nbformat_minor": 5
}
