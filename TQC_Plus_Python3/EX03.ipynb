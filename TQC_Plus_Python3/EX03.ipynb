{
 "cells": [
  {
   "cell_type": "code",
   "execution_count": null,
   "id": "e06db27e",
   "metadata": {},
   "outputs": [],
   "source": [
    "'''EX3'''\n",
    "while True:\n",
    "    a = input('enter a number for a')\n",
    "    try:\n",
    "        a = int(a)\n",
    "        if isinstance(a,int):\n",
    "            if (a >= 0):\n",
    "                break\n",
    "    except Exception as e:\n",
    "        print('retry enter a number for a')\n",
    "        continue\n",
    "        \n",
    "while True:\n",
    "    b = input('enter a number for b')\n",
    "    try:\n",
    "        b = int(b)\n",
    "        if isinstance(b,int):\n",
    "            if (b >= 0 and b > a):\n",
    "                break\n",
    "    except Exception as e:\n",
    "        print('retry enter a number for b')\n",
    "        continue\n",
    "\n",
    "total=0\n",
    "\n",
    "for x in range(a,b+1):\n",
    "    if (x % 2 == 0):\n",
    "        total += x\n",
    "\n",
    "print(total)   "
   ]
  },
  {
   "cell_type": "code",
   "execution_count": 8,
   "id": "208cb0e1",
   "metadata": {},
   "outputs": [
    {
     "name": "stdout",
     "output_type": "stream",
     "text": [
      "987\n",
      "24\n"
     ]
    }
   ],
   "source": [
    "'''EX3-08 迴圈位數加總'''\n",
    "n = input()\n",
    "s = 0\n",
    "for i in range(len(n)):\n",
    "    s += int(n[i])\n",
    "print(s)"
   ]
  },
  {
   "cell_type": "code",
   "execution_count": 5,
   "id": "dd8d2411",
   "metadata": {},
   "outputs": [
    {
     "name": "stdout",
     "output_type": "stream",
     "text": [
      "8\n",
      "1.8284\n"
     ]
    }
   ],
   "source": [
    "'''EX3-10 迴圈公式計算'''\n",
    "num = eval(input())\n",
    "SUM = 1/(1+2**0.5)\n",
    "for i in range(num+1):\n",
    "    if i > 2:\n",
    "        a = (i-1)**0.5\n",
    "        b = (i)**0.5\n",
    "        SUM += 1/(a+b)\n",
    "print(\"{:.4f}\".format(SUM))"
   ]
  }
 ],
 "metadata": {
  "kernelspec": {
   "display_name": "Python 3",
   "language": "python",
   "name": "python3"
  },
  "language_info": {
   "codemirror_mode": {
    "name": "ipython",
    "version": 3
   },
   "file_extension": ".py",
   "mimetype": "text/x-python",
   "name": "python",
   "nbconvert_exporter": "python",
   "pygments_lexer": "ipython3",
   "version": "3.8.8"
  }
 },
 "nbformat": 4,
 "nbformat_minor": 5
}
