{
 "cells": [
  {
   "cell_type": "code",
   "execution_count": 1,
   "id": "91d91f62",
   "metadata": {},
   "outputs": [],
   "source": [
    "from IPython.display import Video\n",
    "from IPython.display import YouTubeVideo\n",
    "import imp\n",
    "import time\n",
    "import pyautogui as pag\n",
    "\n",
    "#.py file import\n",
    "import trade_route as tr\n",
    "import trade_def as td"
   ]
  },
  {
   "cell_type": "code",
   "execution_count": 8,
   "id": "2d8be122",
   "metadata": {},
   "outputs": [],
   "source": [
    "#練習紀錄影片(Youtube)\n",
    "#影片連結： https://youtu.be/lj4euTSBRYk\n",
    "YouTubeVideo('lj4euTSBRYk')"
   ]
  },
  {
   "cell_type": "code",
   "execution_count": 4,
   "id": "bd7ca8bf",
   "metadata": {},
   "outputs": [
    {
     "data": {
      "text/plain": [
       "Point(x=757, y=65)"
      ]
     },
     "execution_count": 4,
     "metadata": {},
     "output_type": "execute_result"
    }
   ],
   "source": [
    "#Point(x=238, y=217)商品1\n",
    "#Point(x=521, y=210)商品2\n",
    "#Point(x=246, y=357)商品3\n",
    "#Point(x=508, y=361)商品4\n",
    "#Point(x=246, y=504)商品5\n",
    "#Point(x=542, y=504)商品6\n",
    "#Point(x=240, y=646)商品7\n",
    "#Point(x=527, y=646)商品8\n",
    "\n",
    "#滑鼠定位\n",
    "pag.position()"
   ]
  },
  {
   "cell_type": "code",
   "execution_count": 9,
   "id": "85f734fe",
   "metadata": {},
   "outputs": [],
   "source": [
    "imp.reload(tr)\n",
    "imp.reload(td)\n",
    "\n",
    "#測試區\n",
    "time.sleep(5)\n"
   ]
  },
  {
   "cell_type": "code",
   "execution_count": null,
   "id": "83e717e1",
   "metadata": {},
   "outputs": [
    {
     "name": "stdout",
     "output_type": "stream",
     "text": [
      "8\n",
      "東南亞+日本線貿易時間:756.0 s\n",
      "歐非線貿易時間:1998.7 s\n",
      "東南亞+日本線貿易時間:756.0 s\n",
      "歐非線貿易時間:1998.7 s\n",
      "東南亞+日本線貿易時間:756.0 s\n",
      "歐非線貿易時間:1998.7 s\n",
      "東南亞+日本線貿易時間:756.0 s\n",
      "歐非線貿易時間:1998.6 s\n",
      "東南亞+日本線貿易時間:756.0 s\n",
      "歐非線貿易時間:1998.7 s\n",
      "東南亞+日本線貿易時間:756.0 s\n",
      "歐非線貿易時間:1998.7 s\n",
      "東南亞+日本線貿易時間:756.0 s\n",
      "歐非線貿易時間:1998.7 s\n"
     ]
    }
   ],
   "source": [
    "imp.reload(tr)\n",
    "imp.reload(td)\n",
    "\n",
    "#啟動循環跑商\n",
    "t = eval(input())\n",
    "time.sleep(5)\n",
    "\n",
    "for i in range(t):\n",
    "    time.sleep(3)\n",
    "    tr.runSA_JP()    #貿易路線1(東南亞+日本線(天津衛出發(758.5 s)))\n",
    "    tr.runEA()       #貿易路線2(歐非線(天津衛出發)(1991.4 s))\n",
    "    tr.AT()          #自動貿易(遊戲內建功能(765 s))\n",
    "    if i < t-1:\n",
    "        td.tradebook()   #貿易卷使用\n",
    "        \n",
    "#總路線耗時約 58mins 利潤 1300w"
   ]
  },
  {
   "cell_type": "code",
   "execution_count": null,
   "id": "79ce8e1b",
   "metadata": {},
   "outputs": [],
   "source": [
    "imp.reload(tr)\n",
    "imp.reload(td)\n",
    "\n",
    "#啟動單趟跑商\n",
    "time.sleep(5)\n",
    "\n",
    "tr.runSA_JP()  #貿易路線1(東南亞+日本線(天津衛出發(758.5 s)))\n",
    "tr.runEA()     #貿易路線2(歐非線(天津衛出發)(1991.4 s))\n",
    "tr.AT()        #自動貿易(遊戲內建功能(765 s))"
   ]
  }
 ],
 "metadata": {
  "kernelspec": {
   "display_name": "Python 3",
   "language": "python",
   "name": "python3"
  },
  "language_info": {
   "codemirror_mode": {
    "name": "ipython",
    "version": 3
   },
   "file_extension": ".py",
   "mimetype": "text/x-python",
   "name": "python",
   "nbconvert_exporter": "python",
   "pygments_lexer": "ipython3",
   "version": "3.8.8"
  }
 },
 "nbformat": 4,
 "nbformat_minor": 5
}
