{
 "cells": [
  {
   "cell_type": "code",
   "execution_count": 25,
   "id": "b915fbe3",
   "metadata": {},
   "outputs": [],
   "source": [
    "from selenium import webdriver\n",
    "from selenium.webdriver.common.keys import Keys\n",
    "from selenium.webdriver.common.by import By\n",
    "from selenium.webdriver.support.select import Select   # 使用 Select 對應下拉選單\n",
    "from datetime import datetime\n",
    "import time"
   ]
  },
  {
   "cell_type": "code",
   "execution_count": 3,
   "id": "167363c7",
   "metadata": {},
   "outputs": [
    {
     "name": "stderr",
     "output_type": "stream",
     "text": [
      "C:\\Users\\a2246\\AppData\\Local\\Temp\\ipykernel_772\\806443308.py:1: DeprecationWarning: executable_path has been deprecated, please pass in a Service object\n",
      "  driver = webdriver.Chrome('./chromedriver')    # 指向 chromedriver 的位置\n"
     ]
    }
   ],
   "source": [
    "driver = webdriver.Chrome('./chromedriver')      # 指向 chromedriver 的位置\n",
    "driver.get('https://discord.com/channels/@me')   # 打開瀏覽器，開啟網頁\n",
    "time.sleep(5)"
   ]
  },
  {
   "cell_type": "code",
   "execution_count": 8,
   "id": "bc5c3a43",
   "metadata": {},
   "outputs": [
    {
     "name": "stdout",
     "output_type": "stream",
     "text": [
      "<selenium.webdriver.remote.webelement.WebElement (session=\"7d25f3cb9143cb2d40893f870c5eb995\", element=\"3185f03b-0c16-4f75-9f38-35664851d0cf\")>\n"
     ]
    }
   ],
   "source": [
    "b_XPATH = '//*[@id=\"app-mount\"]/div[2]/div[1]/div[1]/div/div[2]/div/div/div/div[2]/div[1]/nav/div[2]/ul/li[3]/div/a/div/div[2]/div[1]/div/div'\n",
    "b = driver.find_element(By.XPATH, b_XPATH)\n",
    "b.click()"
   ]
  },
  {
   "cell_type": "code",
   "execution_count": 27,
   "id": "e39a18d8",
   "metadata": {},
   "outputs": [],
   "source": [
    "c_XPATH = '//*[@id=\"app-mount\"]/div[2]/div[1]/div[1]/div/div[2]/div/div/div/div[2]/div[2]/div[2]/main/form/div/div[1]/div/div[3]/div/div[2]/div'\n",
    "c = driver.find_element(By.XPATH, c_XPATH)\n",
    "c.send_keys('現在時間 {}，自動機器人測試輸入文字，不要理我'.format(datetime.now().strftime(\"%H:%M\")))\n",
    "time.sleep(0.1)\n",
    "c.send_keys(Keys.RETURN)"
   ]
  },
  {
   "cell_type": "code",
   "execution_count": null,
   "id": "fa2e0731",
   "metadata": {},
   "outputs": [],
   "source": []
  }
 ],
 "metadata": {
  "kernelspec": {
   "display_name": "Python 3 (ipykernel)",
   "language": "python",
   "name": "python3"
  },
  "language_info": {
   "codemirror_mode": {
    "name": "ipython",
    "version": 3
   },
   "file_extension": ".py",
   "mimetype": "text/x-python",
   "name": "python",
   "nbconvert_exporter": "python",
   "pygments_lexer": "ipython3",
   "version": "3.9.13"
  }
 },
 "nbformat": 4,
 "nbformat_minor": 5
}
