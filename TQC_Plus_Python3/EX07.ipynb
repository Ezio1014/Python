{
 "cells": [
  {
   "cell_type": "code",
   "execution_count": 1,
   "id": "e06db27e",
   "metadata": {},
   "outputs": [
    {
     "name": "stdout",
     "output_type": "stream",
     "text": [
      "(1, 2, 5, 7, 6)\n",
      "[1, 2, 5, 6, 7]\n"
     ]
    }
   ],
   "source": [
    "'''EX7-02 數組合併排序'''\n",
    "a = [1,2,5,7,6]\n",
    "b = sorted(a)\n",
    "'''b = sorted(a,reverse = True)'''\n",
    "print(tuple(a))\n",
    "print(b)"
   ]
  },
  {
   "cell_type": "code",
   "execution_count": null,
   "id": "88a2573c",
   "metadata": {},
   "outputs": [],
   "source": []
  }
 ],
 "metadata": {
  "kernelspec": {
   "display_name": "Python 3",
   "language": "python",
   "name": "python3"
  },
  "language_info": {
   "codemirror_mode": {
    "name": "ipython",
    "version": 3
   },
   "file_extension": ".py",
   "mimetype": "text/x-python",
   "name": "python",
   "nbconvert_exporter": "python",
   "pygments_lexer": "ipython3",
   "version": "3.8.8"
  }
 },
 "nbformat": 4,
 "nbformat_minor": 5
}
