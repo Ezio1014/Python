{
 "cells": [
  {
   "cell_type": "code",
   "execution_count": 2,
   "id": "91d91f62",
   "metadata": {},
   "outputs": [],
   "source": [
    "from IPython.display import Video\n",
    "from IPython.display import YouTubeVideo\n",
    "import importlib as imp\n",
    "import time\n",
    "import pyautogui as pag\n",
    "\n",
    "#.py file import\n",
    "import trade_route as tr\n",
    "import trade_def as td"
   ]
  },
  {
   "cell_type": "code",
   "execution_count": 3,
   "id": "2d8be122",
   "metadata": {},
   "outputs": [
    {
     "data": {
      "image/jpeg": "[encoded data removed]",
      "text/html": [
       "\n",
       "        <iframe\n",
       "            width=\"400\"\n",
       "            height=\"300\"\n",
       "            src=\"https://www.youtube.com/embed/lj4euTSBRYk\"\n",
       "            frameborder=\"0\"\n",
       "            allowfullscreen\n",
       "            \n",
       "        ></iframe>\n",
       "        "
      ],
      "text/plain": [
       "<IPython.lib.display.YouTubeVideo at 0x1d9add4bd90>"
      ]
     },
     "execution_count": 3,
     "metadata": {},
     "output_type": "execute_result"
    }
   ],
   "source": [
    "#練習紀錄影片(Youtube)\n",
    "#影片連結1： https://youtu.be/lj4euTSBRYk\n",
    "#影片連結2： https://youtu.be/nTLt2Pt87UU\n",
    "YouTubeVideo('lj4euTSBRYk')"
   ]
  },
  {
   "cell_type": "code",
   "execution_count": null,
   "id": "b08e87a4",
   "metadata": {},
   "outputs": [],
   "source": [
    "'''\n",
    "#商品1 Point(x=238, y=217)\n",
    "#商品2 Point(x=521, y=210)\n",
    "#商品3 Point(x=246, y=357)\n",
    "#商品4 Point(x=508, y=361)\n",
    "#商品5 Point(x=246, y=504)\n",
    "#商品6 Point(x=542, y=504)\n",
    "#商品7 Point(x=240, y=646)\n",
    "#商品8 Point(x=527, y=646)\n",
    "\n",
    "#黑市商品(辨識用座標)\n",
    "商品1 Point(x=75, y=165) Point(x=355, y=260)\n",
    "商品2 Point(x=365, y=165)\n",
    "商品3 Point(x=75, y=275)\n",
    "商品4 Point(x=365, y=275)\n",
    "商品5 Point(x=75, y=385)\n",
    "'''"
   ]
  },
  {
   "cell_type": "code",
   "execution_count": 10,
   "id": "fce5c26f",
   "metadata": {},
   "outputs": [],
   "source": [
    "#更新\n",
    "Point(x=1344, y=208) #X\n",
    "pag.position() #G\n",
    "Point(x=798, y=601) #R\n",
    "Point(x=786, y=734) #進入遊戲\n",
    "Point(x=411, y=527) #腳色\n",
    "pag.position() #start\n",
    "\n",
    "#關閉遊戲\n",
    "def shotDown():\n",
    "    time.sleep(2)\n",
    "    td.click_xy(1562,15,2)\n",
    "    td.click_xy(871,522,2)"
   ]
  },
  {
   "cell_type": "code",
   "execution_count": 21,
   "id": "bd7ca8bf",
   "metadata": {},
   "outputs": [
    {
     "data": {
      "text/plain": [
       "Point(x=920, y=520)"
      ]
     },
     "execution_count": 21,
     "metadata": {},
     "output_type": "execute_result"
    }
   ],
   "source": [
    "#滑鼠定位\n",
    "pag.position()"
   ]
  },
  {
   "cell_type": "code",
   "execution_count": null,
   "id": "83e717e1",
   "metadata": {},
   "outputs": [
    {
     "name": "stdout",
     "output_type": "stream",
     "text": [
      "跑商次數7\n",
      "東南亞+日本線貿易時間:757.7 s\n",
      "歐非線貿易時間:2060.1 s\n",
      "TradingLoop finish 1 times\n",
      "TradingLoop finish 2 times\n",
      "TradingLoop finish 3 times\n"
     ]
    }
   ],
   "source": [
    "imp.reload(tr)\n",
    "imp.reload(td)\n",
    "\n",
    "#啟動循環跑商\n",
    "#moneyNote = eval(input(\"紀錄目前存款\"))\n",
    "t = eval(input(\"跑商次數\"))\n",
    "time.sleep(5)\n",
    "\n",
    "for i in range(t):\n",
    "    time.sleep(3)\n",
    "    \n",
    "    time_start = time.time() #開始計時\n",
    "    tr.runSA_JP()    #貿易路線1(東南亞+日本線(天津衛出發(758.9 s)))\n",
    "    time_end = time.time() - time_start   #執行所花時間\n",
    "    if i == 0:\n",
    "        print('東南亞+日本線貿易時間:{:.1f}'.format(time_end), 's')\n",
    "    \n",
    "    time_start = time.time() #開始計時\n",
    "    tr.runAF_EU()       #貿易路線2(歐非線(天津衛出發)(2069.4 s))\n",
    "    time_end = time.time() - time_start   #執行所花時間\n",
    "    if i == 0:\n",
    "        print('歐非線貿易時間:{:.1f}'.format(time_end), 's')\n",
    "    \n",
    "    tr.AT()          #自動貿易(遊戲內建功能(755+13 s))\n",
    "    print(\"TradingLoop finish {} times\".format(i+1))\n",
    "    if i < t-1:\n",
    "        td.tradebook()   #貿易卷使用\n",
    "        \n",
    "#總路線耗時約 58mins 利潤 1350w"
   ]
  },
  {
   "cell_type": "code",
   "execution_count": 22,
   "id": "79ce8e1b",
   "metadata": {},
   "outputs": [],
   "source": [
    "imp.reload(tr)\n",
    "imp.reload(td)\n",
    "\n",
    "#啟動單趟跑商\n",
    "time.sleep(5)\n",
    "\n",
    "tr.runSA_JP()  #貿易路線1(東南亞+日本線(天津衛出發(758.5 s)))\n",
    "tr.runAF_EU()     #貿易路線2(歐非線(天津衛出發)(1991.4 s))\n",
    "tr.AT()        #自動貿易(遊戲內建功能(765 s))"
   ]
  },
  {
   "cell_type": "code",
   "execution_count": 24,
   "id": "ed39a3a8",
   "metadata": {},
   "outputs": [],
   "source": [
    "imp.reload(tr)\n",
    "imp.reload(td)\n",
    "\n",
    "#測試區\n",
    "time.sleep(3)\n"
   ]
  },
  {
   "cell_type": "code",
   "execution_count": null,
   "id": "39bb827f",
   "metadata": {},
   "outputs": [],
   "source": []
  }
 ],
 "metadata": {
  "kernelspec": {
   "display_name": "Python 3 (ipykernel)",
   "language": "python",
   "name": "python3"
  },
  "language_info": {
   "codemirror_mode": {
    "name": "ipython",
    "version": 3
   },
   "file_extension": ".py",
   "mimetype": "text/x-python",
   "name": "python",
   "nbconvert_exporter": "python",
   "pygments_lexer": "ipython3",
   "version": "3.9.13"
  }
 },
 "nbformat": 4,
 "nbformat_minor": 5
}
