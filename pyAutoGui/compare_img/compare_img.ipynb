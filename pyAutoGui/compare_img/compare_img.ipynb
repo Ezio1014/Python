{
 "cells": [
  {
   "cell_type": "code",
   "execution_count": 2,
   "id": "623365bb",
   "metadata": {},
   "outputs": [],
   "source": [
    "from IPython.display import Video\n",
    "from IPython.display import YouTubeVideo\n",
    "import imp\n",
    "import time\n",
    "import pyautogui as pag\n",
    "import keyboard\n",
    "import numpy as np\n",
    "import cv2\n",
    "import os\n",
    "import sys\n",
    "import msvcrt"
   ]
  },
  {
   "cell_type": "code",
   "execution_count": 3,
   "id": "d714114f",
   "metadata": {},
   "outputs": [],
   "source": [
    "#import 上層.py檔\n",
    "sys.path.append(\"..\")\n",
    "import trade_def as td"
   ]
  },
  {
   "cell_type": "code",
   "execution_count": 7,
   "id": "0a162ae9",
   "metadata": {},
   "outputs": [],
   "source": [
    "imp.reload(td)\n",
    "\n",
    "#黑市購買迴圈(條件:漢堡船塢待機才能判別日期圖片為10號)\n",
    "def route_bm():\n",
    "    place_dict = {'阿姆斯特丹':16,'安特衛普':16,'倫敦':15,'加來':18,'普利茅斯':17,'南特':20\\\n",
    "                  ,'波爾多':15,'波爾圖':25,'里斯本':16,'塞維利亞':16,'休達':13,'阿爾及爾':20}\n",
    "    time.sleep(2)\n",
    "    \n",
    "    td.black_market() #漢堡    \n",
    "    \n",
    "    #搭配字典應用 v2.0\n",
    "    for key,value in place_dict.items():\n",
    "        td.black_market(key,value)\n",
    "        \n",
    "    td.search_port('漢堡',61)#返回漢堡"
   ]
  },
  {
   "cell_type": "code",
   "execution_count": null,
   "id": "305c3b1c",
   "metadata": {},
   "outputs": [],
   "source": [
    "#測試區1(依日期進程)\n",
    "imp.reload(td)\n",
    "time.sleep(5)\n",
    "\n",
    "day28 = [1, 2, 3, 4, 5, 6, 7, 8, 9, 10, 11, 12, 13, 14, 15, 16\\\n",
    "         , 17, 18, 19, 20, 21, 22, 23, 24, 25, 26, 27, 28]\n",
    "\n",
    "day30 = [1, 2, 3, 4, 5, 6, 7, 8, 9, 10, 11, 12, 13, 14, 15, 16\\\n",
    "         , 17, 18, 19, 20, 21, 22, 23, 24, 25, 26, 27, 28, 29, 30]\n",
    "\n",
    "day31 = [1, 2, 3, 4, 5, 6, 7, 8, 9, 10, 11, 12, 13, 14, 15, 16\\\n",
    "         , 17, 18, 19, 20, 21, 22, 23, 24, 25, 26, 27, 28, 29, 30, 31]\n",
    "\n",
    "month = {1:day31, 2:day28, 3:day31, 4:day30, 5:day31, 6:day30,\\\n",
    "         7:day31, 8:day31, 9:day30, 10:day31, 11:day30, 12:day31}\n",
    "\n",
    "m = eval(input()) #月\n",
    "d = eval(input()) #日\n",
    "\n",
    "while True:\n",
    "    if keyboard.is_pressed('ENTER'):\n",
    "        break\n",
    "        \n",
    "    if d < 10:\n",
    "        time.sleep(60*(10-st))\n",
    "        route_bm()\n",
    "        if m == 2:\n",
    "            time.sleep(60*8)\n",
    "        elif len(month[m]) ==30:\n",
    "            time.sleep(60*10)\n",
    "        elif len(month[m]) ==31:\n",
    "            time.sleep(60*11)\n",
    "        \n",
    "        if m == 12:\n",
    "            m = 1\n",
    "        else:\n",
    "            m += 1\n",
    "        d = 1"
   ]
  },
  {
   "cell_type": "code",
   "execution_count": null,
   "id": "3b319600",
   "metadata": {},
   "outputs": [
    {
     "name": "stdout",
     "output_type": "stream",
     "text": [
      "1\n"
     ]
    }
   ],
   "source": [
    "#測試區2(圖片辨識日期)(運行OK)\n",
    "stop = eval(input())\n",
    "s = 1\n",
    "d = 1\n",
    "\n",
    "while True:\n",
    "    img_day = pag.locateOnScreen('./day10.png',confidence = 0.85)\n",
    "    if img_day is None:\n",
    "        time.sleep(10)\n",
    "    else:\n",
    "        d = 10\n",
    "        \n",
    "    if d == 10:\n",
    "        route_bm()\n",
    "        s += 1\n",
    "        \n",
    "    if s == stop:\n",
    "        break"
   ]
  },
  {
   "cell_type": "code",
   "execution_count": 9,
   "id": "30f6adc1",
   "metadata": {},
   "outputs": [],
   "source": [
    "#route_bm()"
   ]
  }
 ],
 "metadata": {
  "kernelspec": {
   "display_name": "Python 3",
   "language": "python",
   "name": "python3"
  },
  "language_info": {
   "codemirror_mode": {
    "name": "ipython",
    "version": 3
   },
   "file_extension": ".py",
   "mimetype": "text/x-python",
   "name": "python",
   "nbconvert_exporter": "python",
   "pygments_lexer": "ipython3",
   "version": "3.8.8"
  }
 },
 "nbformat": 4,
 "nbformat_minor": 5
}
