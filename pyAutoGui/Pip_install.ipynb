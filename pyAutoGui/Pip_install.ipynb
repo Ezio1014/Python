{
 "cells": [
  {
   "cell_type": "code",
   "execution_count": 1,
   "id": "4b5fa854",
   "metadata": {},
   "outputs": [
    {
     "ename": "SyntaxError",
     "evalue": "invalid syntax (<ipython-input-1-9a83b42f7773>, line 3)",
     "output_type": "error",
     "traceback": [
      "\u001b[1;36m  File \u001b[1;32m\"<ipython-input-1-9a83b42f7773>\"\u001b[1;36m, line \u001b[1;32m3\u001b[0m\n\u001b[1;33m    pip install opencv-python\u001b[0m\n\u001b[1;37m        ^\u001b[0m\n\u001b[1;31mSyntaxError\u001b[0m\u001b[1;31m:\u001b[0m invalid syntax\n"
     ]
    }
   ],
   "source": [
    "#pip install pyautogui\n",
    "#pip install keyboard\n",
    "#pip install opencv-python"
   ]
  },
  {
   "cell_type": "code",
   "execution_count": null,
   "id": "ff397d17",
   "metadata": {},
   "outputs": [],
   "source": [
    "'''\n",
    "#功能說明:\n",
    "\n",
    "pyautogui.press(\"key\")\n",
    "按下鍵盤按鍵\n",
    "    \n",
    "pyautogui.scroll(value)\n",
    "滑鼠滾輪，正值向上，負值向下\n",
    "\n",
    "pyautogui.dragTo(100, 100, duration=2, button='right')\n",
    "#用2秒按住滑鼠右鍵到x=100，y=100的位置\n",
    "    duration參數:用時X秒\n",
    "    button參數:左(left)、中(middle)、右(right)\n",
    "\n",
    "pyautogui.position()\n",
    "判斷滑鼠目前位置\n",
    "\n",
    "screenshot(region=(0,0, 300, 400))\n",
    "擷取圖片的 x,y 座標及 w,h 圖片的寬高\n",
    "\n",
    "'''"
   ]
  },
  {
   "cell_type": "code",
   "execution_count": null,
   "id": "950c3649",
   "metadata": {},
   "outputs": [],
   "source": [
    "'''\n",
    "img = cv2.imread('./img/ghostFlag.png',-1)   # 開啟圖片，預設使用 cv2.IMREAD_COLOR 模式\n",
    "\n",
    "type(img)\n",
    "cv2.imshow('image', img)\n",
    "cv2.waitKey(0)\n",
    "cv2.destroyAllWindows()\n",
    "'''"
   ]
  }
 ],
 "metadata": {
  "kernelspec": {
   "display_name": "Python 3",
   "language": "python",
   "name": "python3"
  },
  "language_info": {
   "codemirror_mode": {
    "name": "ipython",
    "version": 3
   },
   "file_extension": ".py",
   "mimetype": "text/x-python",
   "name": "python",
   "nbconvert_exporter": "python",
   "pygments_lexer": "ipython3",
   "version": "3.8.8"
  }
 },
 "nbformat": 4,
 "nbformat_minor": 5
}
