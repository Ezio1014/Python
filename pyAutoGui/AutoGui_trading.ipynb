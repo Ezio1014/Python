{
 "cells": [
  {
   "cell_type": "code",
   "execution_count": 5,
   "id": "91d91f62",
   "metadata": {},
   "outputs": [],
   "source": [
    "from IPython.display import Video\n",
    "from IPython.display import YouTubeVideo\n",
    "import imp\n",
    "import time\n",
    "import pyautogui as pag\n",
    "\n",
    "#.py file import\n",
    "import trade_route as tr\n",
    "import trade_def as td"
   ]
  },
  {
   "cell_type": "code",
   "execution_count": 8,
   "id": "2d8be122",
   "metadata": {},
   "outputs": [],
   "source": [
    "#練習紀錄影片(Youtube)\n",
    "#影片連結1： https://youtu.be/lj4euTSBRYk\n",
    "#影片連結2： https://youtu.be/nTLt2Pt87UU\n",
    "YouTubeVideo('lj4euTSBRYk')"
   ]
  },
  {
   "cell_type": "code",
   "execution_count": null,
   "id": "b08e87a4",
   "metadata": {},
   "outputs": [],
   "source": [
    "'''\n",
    "#商品1 Point(x=238, y=217)\n",
    "#商品2 Point(x=521, y=210)\n",
    "#商品3 Point(x=246, y=357)\n",
    "#商品4 Point(x=508, y=361)\n",
    "#商品5 Point(x=246, y=504)\n",
    "#商品6 Point(x=542, y=504)\n",
    "#商品7 Point(x=240, y=646)\n",
    "#商品8 Point(x=527, y=646)\n",
    "\n",
    "#黑市商品(辨識用座標)\n",
    "商品1 Point(x=75, y=165) Point(x=355, y=260)\n",
    "商品2 Point(x=365, y=165)\n",
    "商品3 Point(x=75, y=275)\n",
    "商品4 Point(x=365, y=275)\n",
    "商品5 Point(x=75, y=385)\n",
    "'''"
   ]
  },
  {
   "cell_type": "code",
   "execution_count": 31,
   "id": "bd7ca8bf",
   "metadata": {},
   "outputs": [
    {
     "data": {
      "text/plain": [
       "Point(x=651, y=162)"
      ]
     },
     "execution_count": 31,
     "metadata": {},
     "output_type": "execute_result"
    }
   ],
   "source": [
    "#滑鼠定位\n",
    "pag.position()"
   ]
  },
  {
   "cell_type": "code",
   "execution_count": 4,
   "id": "85f734fe",
   "metadata": {},
   "outputs": [],
   "source": [
    "imp.reload(tr)\n",
    "imp.reload(td)\n",
    "\n",
    "#測試區\n",
    "time.sleep(5)\n"
   ]
  },
  {
   "cell_type": "code",
   "execution_count": 7,
   "id": "83e717e1",
   "metadata": {},
   "outputs": [
    {
     "name": "stdout",
     "output_type": "stream",
     "text": [
      "紀錄目前存款660271387\n",
      "跑商次數2\n",
      "東南亞+日本線貿易時間:758.8 s\n",
      "歐非線貿易時間:2090.4 s\n",
      "TradingLoop finish 0 times\n",
      "東南亞+日本線貿易時間:758.8 s\n",
      "歐非線貿易時間:2090.4 s\n",
      "TradingLoop finish 1 times\n"
     ]
    }
   ],
   "source": [
    "#imp.reload(tr)\n",
    "#imp.reload(td)\n",
    "\n",
    "#啟動循環跑商\n",
    "moneyNote = eval(input(\"紀錄目前存款\"))\n",
    "t = eval(input(\"跑商次數\"))\n",
    "time.sleep(5)\n",
    "\n",
    "for i in range(t):\n",
    "    time.sleep(3)\n",
    "    tr.runSA_JP()    #貿易路線1(東南亞+日本線(天津衛出發(758.9 s)))\n",
    "    tr.runEA()       #貿易路線2(歐非線(天津衛出發)(2094.4 s))\n",
    "    tr.AT()          #自動貿易(遊戲內建功能(757+19.5 s))\n",
    "    print(\"TradingLoop finish {} times\".format(i+1))\n",
    "    if i < t-1:\n",
    "        td.tradebook()   #貿易卷使用\n",
    "        \n",
    "#總路線耗時約 58mins 利潤 1330w"
   ]
  },
  {
   "cell_type": "code",
   "execution_count": 3,
   "id": "79ce8e1b",
   "metadata": {},
   "outputs": [
    {
     "name": "stdout",
     "output_type": "stream",
     "text": [
      "東南亞+日本線貿易時間:758.8 s\n",
      "歐非線貿易時間:2094.4 s\n"
     ]
    }
   ],
   "source": [
    "imp.reload(tr)\n",
    "imp.reload(td)\n",
    "\n",
    "#啟動單趟跑商\n",
    "time.sleep(5)\n",
    "\n",
    "tr.runSA_JP()  #貿易路線1(東南亞+日本線(天津衛出發(758.5 s)))\n",
    "tr.runEA()     #貿易路線2(歐非線(天津衛出發)(1991.4 s))\n",
    "tr.AT()        #自動貿易(遊戲內建功能(765 s))"
   ]
  }
 ],
 "metadata": {
  "kernelspec": {
   "display_name": "Python 3",
   "language": "python",
   "name": "python3"
  },
  "language_info": {
   "codemirror_mode": {
    "name": "ipython",
    "version": 3
   },
   "file_extension": ".py",
   "mimetype": "text/x-python",
   "name": "python",
   "nbconvert_exporter": "python",
   "pygments_lexer": "ipython3",
   "version": "3.8.8"
  }
 },
 "nbformat": 4,
 "nbformat_minor": 5
}
