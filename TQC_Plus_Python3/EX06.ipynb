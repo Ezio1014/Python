{
 "cells": [
  {
   "cell_type": "code",
   "execution_count": 7,
   "id": "b51999d3",
   "metadata": {},
   "outputs": [
    {
     "name": "stdout",
     "output_type": "stream",
     "text": [
      "1\n",
      "2\n",
      "3\n",
      "4\n",
      "5\n",
      "6\n",
      "7\n",
      "8\n",
      "9\n",
      "10\n",
      "11\n",
      "12\n",
      "  1  2  3\n",
      "\n",
      "  4  5  6\n",
      "\n",
      "  7  8  9\n",
      "\n",
      " 10 11 12\n",
      "\n",
      " 42\n"
     ]
    }
   ],
   "source": [
    "'''EX6-01 偶數索引值加總'''\n",
    "a = []\n",
    "sum_a = 0\n",
    "count = 0\n",
    "for i in range(12):\n",
    "    num = eval(input())\n",
    "    a.append(num)\n",
    "\n",
    "for j in a:\n",
    "    count +=1\n",
    "    print(\"{:3d}\".format(j),end=\"\")\n",
    "    if j % 2 ==0:\n",
    "        sum_a += j\n",
    "    if count % 3 == 0:\n",
    "        print(\"\")\n",
    "\n",
    "print(\"{:3d}\".format(sum_a))\n",
    "    "
   ]
  },
  {
   "cell_type": "code",
   "execution_count": null,
   "id": "90c8a25b",
   "metadata": {},
   "outputs": [],
   "source": [
    "'''EX6-02 撲克牌總和'''\n",
    "'''(完整版)輸入五次撲克牌點數後加總，如果連續輸入四張一樣的點數，第五張不能與前面相同'''\n",
    "from collections import Counter\n",
    "\n",
    "pokersnum = ['A','2','3','4','5','6','7','8','9','10','J','Q','K']\n",
    "dict_pokers = {'A':1 ,'2':2,'3':3,'4':4,'5':5,'6':6,'7':7,'8':8,'9':9,'10':10,'J':11 ,'Q':12 ,'K':13}\n",
    "\n",
    "num_times = 1\n",
    "list_pokers = []\n",
    "\n",
    "while num_times <= 5:\n",
    "    while True:\n",
    "        num = input('enter a pokers_number {} times'.format(num_times))\n",
    "        try:\n",
    "            if num in pokersnum and len(list_pokers)<4:\n",
    "                list_pokers.append(dict_pokers[num])\n",
    "            \n",
    "                num_times += 1\n",
    "                break\n",
    "            \n",
    "            elif num in pokersnum and len(list_pokers)==4:\n",
    "                if len(set(list_pokers))==1 and dict_pokers[num] in list_pokers:\n",
    "                    print(\"it's have 4 same cards, pls retry\")\n",
    "                    break\n",
    "                \n",
    "                else:\n",
    "                    list_pokers.append(dict_pokers[num])\n",
    "                    num_times += 1\n",
    "                    break\n",
    "            else:\n",
    "                print('retry')\n",
    "        \n",
    "        except Exception as e:\n",
    "            print('retry')\n",
    "            continue\n",
    "\n",
    "print(sum(list_pokers))"
   ]
  },
  {
   "cell_type": "code",
   "execution_count": 8,
   "id": "f9e2399c",
   "metadata": {},
   "outputs": [
    {
     "name": "stdout",
     "output_type": "stream",
     "text": [
      "A\n",
      "J\n",
      "Q\n",
      "10\n",
      "8\n",
      "42\n"
     ]
    }
   ],
   "source": [
    "'''EX6-02 撲克牌總和'''\n",
    "'''(作答版)'''\n",
    "dict_pokers = {'A':1 ,'2':2,'3':3,'4':4,'5':5,'6':6,'7':7,'8':8,'9':9,'10':10,'J':11 ,'Q':12 ,'K':13}\n",
    "sum_a = 0\n",
    "\n",
    "for i in range(5):\n",
    "    a = input()\n",
    "    sum_a += dict_pokers[a]\n",
    "    \n",
    "print(sum_a)\n"
   ]
  },
  {
   "cell_type": "code",
   "execution_count": 11,
   "id": "6325c561",
   "metadata": {},
   "outputs": [
    {
     "name": "stdout",
     "output_type": "stream",
     "text": [
      "5\n",
      "88\n",
      "99\n",
      "20\n",
      "1\n",
      "3\n",
      "100\n",
      "159\n",
      "326\n",
      "4\n",
      "326 159 100 "
     ]
    }
   ],
   "source": [
    "'''EX6-03 數字排序'''\n",
    "a = []\n",
    "\n",
    "for i in range(10):\n",
    "    b = eval(input())\n",
    "    a.append(b)\n",
    "    \n",
    "a.sort(reverse=True)\n",
    "\n",
    "for j in range(3):\n",
    "    print(a[j],end=\" \")"
   ]
  },
  {
   "cell_type": "code",
   "execution_count": 15,
   "id": "d4f10ce8",
   "metadata": {},
   "outputs": [
    {
     "name": "stdout",
     "output_type": "stream",
     "text": [
      "13\n",
      "14\n",
      "14\n",
      "15\n",
      "15\n",
      "15\n",
      "17\n",
      "20\n",
      "20\n",
      "6\n",
      "15\n",
      "3\n"
     ]
    }
   ],
   "source": [
    "'''EX6-04 眾數'''\n",
    "a = []\n",
    "cnt = [0]*10\n",
    "\n",
    "for i in range(10):\n",
    "    b = eval(input())\n",
    "    a.append(b)\n",
    "    cnt[a.index(b)] +=1\n",
    "\n",
    "print(a[cnt.index(max(cnt))])\n",
    "print(max(cnt))\n",
    "\n"
   ]
  },
  {
   "cell_type": "code",
   "execution_count": 21,
   "id": "dbf3443f",
   "metadata": {},
   "outputs": [
    {
     "name": "stdout",
     "output_type": "stream",
     "text": [
      "10\n",
      "11\n",
      "20\n",
      "30\n",
      "40\n",
      "50\n",
      "60\n",
      "70\n",
      "80\n",
      "90\n",
      "56.38\n"
     ]
    }
   ],
   "source": [
    "'''EX6-05 成績計算'''\n",
    "a = []\n",
    "b = 0\n",
    "for i in range(10):\n",
    "    b = eval(input())\n",
    "    a.append(b)\n",
    "    \n",
    "a.sort(reverse=True)\n",
    "\n",
    "for j in range(1,9):\n",
    "    b += a[j]\n",
    "    \n",
    "print(b)\n",
    "print(\"{:.2f}\".format(b/8))"
   ]
  },
  {
   "cell_type": "code",
   "execution_count": 1,
   "id": "ca48c197",
   "metadata": {},
   "outputs": [
    {
     "name": "stdout",
     "output_type": "stream",
     "text": [
      "5\n",
      "10\n",
      "   0   1   2   3   4   5   6   7   8   9\n",
      "  -1   0   1   2   3   4   5   6   7   8\n",
      "  -2  -1   0   1   2   3   4   5   6   7\n",
      "  -3  -2  -1   0   1   2   3   4   5   6\n",
      "  -4  -3  -2  -1   0   1   2   3   4   5\n"
     ]
    }
   ],
   "source": [
    "'''EX6-06 二維串列行列數'''\n",
    "rows = eval(input())\n",
    "cols = eval(input())\n",
    "L = []\n",
    "\n",
    "def compute():\n",
    "    for r in range(rows):\n",
    "        L.append([])\n",
    "        for c in range(cols):\n",
    "            L[r].append(c-r)\n",
    "            print(\"{:4d}\".format(L[r][c]),end=\"\")\n",
    "        print(\"\")\n",
    "        \n",
    "compute()"
   ]
  },
  {
   "cell_type": "code",
   "execution_count": 29,
   "id": "d95e7a58",
   "metadata": {},
   "outputs": [
    {
     "name": "stdout",
     "output_type": "stream",
     "text": [
      "The 1st student:\n",
      "78\n",
      "88\n",
      "89\n",
      "70\n",
      "60\n",
      "The 2nd student:\n",
      "60\n",
      "70\n",
      "80\n",
      "90\n",
      "100\n",
      "The 3rd student:\n",
      "65\n",
      "75\n",
      "85\n",
      "95\n",
      "98\n",
      "Student 1\n",
      "#Sum 385\n",
      "#Average 77.00\n",
      "Student 2\n",
      "#Sum 400\n",
      "#Average 80.00\n",
      "Student 3\n",
      "#Sum 418\n",
      "#Average 83.60\n"
     ]
    }
   ],
   "source": [
    "'''EX6-07 成績計算'''\n",
    "L = [[],[],[]]\n",
    "for i in range(3):\n",
    "    if i ==0:\n",
    "        print(\"The 1st student:\")\n",
    "    elif i ==1:\n",
    "        print(\"The 2nd student:\")\n",
    "    else:\n",
    "        print(\"The 3rd student:\")\n",
    "    for j in range(5):\n",
    "        s = eval(input())\n",
    "        L[i].append(s)\n",
    "\n",
    "for j in range(1,4):\n",
    "    print(\"Student {}\".format(j))\n",
    "    print(\"#Sum {}\".format(sum(L[j-1])))\n",
    "    print(\"#Average {:.2f}\".format(sum(L[j-1])/len(L[j-1])))"
   ]
  },
  {
   "cell_type": "code",
   "execution_count": 36,
   "id": "28926cd3",
   "metadata": {},
   "outputs": [
    {
     "name": "stdout",
     "output_type": "stream",
     "text": [
      "55\n",
      "99\n",
      "80\n",
      "-99\n",
      "-33\n",
      "-1\n",
      "12\n",
      "2\n",
      "3\n",
      "Index of the largest number 99 is: (0, 1)\n",
      "Index of the smallest number -99 is: (1, 0)\n"
     ]
    }
   ],
   "source": [
    "'''EX6-08 最大最小值索引'''\n",
    "r1 = r2 = c1 = c2 = 0\n",
    "MAX = -99999999999999999999\n",
    "MIN = 99999999999999999999\n",
    "for i in range(3):\n",
    "    for j in range(3):\n",
    "        d = eval(input())\n",
    "        if d > MAX:\n",
    "            MAX = d\n",
    "            r1 = i\n",
    "            c1 = j\n",
    "        if d < MIN:\n",
    "            MIN = d\n",
    "            r2 = i\n",
    "            c2 = j\n",
    "        \n",
    "print(\"Index of the largest number {} is: ({}, {})\".format(MAX,r1,c1))\n",
    "print(\"Index of the smallest number {} is: ({}, {})\".format(MIN,r2,c2))"
   ]
  },
  {
   "cell_type": "code",
   "execution_count": 40,
   "id": "9c5ec5d7",
   "metadata": {},
   "outputs": [
    {
     "name": "stdout",
     "output_type": "stream",
     "text": [
      "Enter matrix 1:\n",
      "[1, 1]: 1\n",
      "1\n",
      "[1, 2]: 2\n",
      "2\n",
      "[2, 1]: 3\n",
      "3\n",
      "[2, 2]: 4\n",
      "4\n",
      "Enter matrix 2:\n",
      "[1, 1]: 2\n",
      "2\n",
      "[1, 2]: 4\n",
      "4\n",
      "[2, 1]: 6\n",
      "6\n",
      "[2, 2]: 8\n",
      "8\n",
      "Matrix 1:\n",
      "1 2 \n",
      "3 4 \n",
      "Matrix 2:\n",
      "2 4 \n",
      "6 8 \n",
      "Sum of 2 matrix:\n",
      "3 6 9 12 "
     ]
    }
   ],
   "source": [
    "'''EX6-09 矩陣相加'''\n",
    "L1 = [[],[]]\n",
    "L2 = [[],[]]\n",
    "\n",
    "print(\"Enter matrix 1:\")\n",
    "for i in range(2):    \n",
    "    for j in range(2):\n",
    "        print(\"[{}, {}]: \".format(i+1,j+1),end='')\n",
    "        L = eval(input())\n",
    "        L1[i].append(L)\n",
    "        print(L1[i][j])        \n",
    "            \n",
    "print(\"Enter matrix 2:\")\n",
    "for i in range(2):    \n",
    "    for j in range(2):\n",
    "        print(\"[{}, {}]: \".format(i+1,j+1),end='')\n",
    "        L = eval(input())\n",
    "        L2[i].append(L)\n",
    "        print(L2[i][j])\n",
    "        \n",
    "print(\"Matrix 1:\")\n",
    "for i in range(2):    \n",
    "    for j in range(2):\n",
    "        print(L1[i][j],end=' ')\n",
    "    print()\n",
    "    \n",
    "print(\"Matrix 2:\")\n",
    "for i in range(2):    \n",
    "    for j in range(2):\n",
    "        print(L2[i][j],end=' ')\n",
    "    print()\n",
    "    \n",
    "print(\"Sum of 2 matrix:\")\n",
    "for i in range(2):    \n",
    "    for j in range(2):\n",
    "        print(L1[i][j]+L2[i][j],end=' ')\n",
    "    print()"
   ]
  },
  {
   "cell_type": "code",
   "execution_count": 49,
   "id": "f5b1393d",
   "metadata": {},
   "outputs": [
    {
     "name": "stdout",
     "output_type": "stream",
     "text": [
      "Week 1:\n",
      "Day 1:20.1\n",
      "20.1\n",
      "Day 2:20.10\n",
      "20.1\n",
      "Day 3:22\n",
      "22\n",
      "Day 4:23\n",
      "23\n",
      "Week 2:\n",
      "Day 1:50\n",
      "50\n",
      "Day 2:40\n",
      "40\n",
      "Day 3:30\n",
      "30\n",
      "Day 4:25\n",
      "25\n",
      "Week 3:\n",
      "Day 1:25\n",
      "25\n",
      "Day 2:25\n",
      "25\n",
      "Day 3:25\n",
      "25\n",
      "Day 4:25\n",
      "25\n",
      "Average: 27.516666666666666\n",
      "Highest: 50\n",
      "Lowest: 20.1\n"
     ]
    }
   ],
   "source": [
    "'''EX6-10 平均溫度'''\n",
    "temp = []\n",
    "\n",
    "for d in range(1,4):\n",
    "    print(\"Week {}:\".format(d))\n",
    "    for i in range(4):\n",
    "        print(\"Day {}:\".format(i+1),end='')\n",
    "        t = eval(input())\n",
    "        temp.append(t)\n",
    "        t = '{:g}'.format(t)\n",
    "        print(t)\n",
    "print(\"Average: {:.2f}\".format(sum(temp)/len(temp)))\n",
    "print(\"Highest: {}\".format(max(temp)))\n",
    "print(\"Lowest: {}\".format(min(temp)))"
   ]
  },
  {
   "cell_type": "code",
   "execution_count": null,
   "id": "2f4f879e",
   "metadata": {},
   "outputs": [],
   "source": []
  }
 ],
 "metadata": {
  "kernelspec": {
   "display_name": "Python 3",
   "language": "python",
   "name": "python3"
  },
  "language_info": {
   "codemirror_mode": {
    "name": "ipython",
    "version": 3
   },
   "file_extension": ".py",
   "mimetype": "text/x-python",
   "name": "python",
   "nbconvert_exporter": "python",
   "pygments_lexer": "ipython3",
   "version": "3.8.8"
  }
 },
 "nbformat": 4,
 "nbformat_minor": 5
}
